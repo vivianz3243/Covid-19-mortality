{
  "cells": [
    {
      "cell_type": "code",
      "execution_count": null,
      "metadata": {
        "id": "xqArDA2u0KAQ"
      },
      "outputs": [],
      "source": [
        "import pandas as pd"
      ]
    },
    {
      "cell_type": "markdown",
      "metadata": {},
      "source": [
        "# Get Data"
      ]
    },
    {
      "cell_type": "code",
      "execution_count": null,
      "metadata": {
        "colab": {
          "base_uri": "https://localhost:8080/",
          "height": 417
        },
        "id": "WUF6Tv8t0Kre",
        "outputId": "06befb90-bfd6-44b6-e570-8ad50efa6750"
      },
      "outputs": [
        {
          "data": {
            "text/html": [
              "\n",
              "  <div id=\"df-0736c679-641e-4c57-8ef2-4f4eb6f5ad6b\">\n",
              "    <div class=\"colab-df-container\">\n",
              "      <div>\n",
              "<style scoped>\n",
              "    .dataframe tbody tr th:only-of-type {\n",
              "        vertical-align: middle;\n",
              "    }\n",
              "\n",
              "    .dataframe tbody tr th {\n",
              "        vertical-align: top;\n",
              "    }\n",
              "\n",
              "    .dataframe thead th {\n",
              "        text-align: right;\n",
              "    }\n",
              "</style>\n",
              "<table border=\"1\" class=\"dataframe\">\n",
              "  <thead>\n",
              "    <tr style=\"text-align: right;\">\n",
              "      <th></th>\n",
              "      <th>iso2</th>\n",
              "      <th>iso3</th>\n",
              "      <th>code3</th>\n",
              "      <th>FIPS</th>\n",
              "      <th>Admin2</th>\n",
              "      <th>Province_State</th>\n",
              "      <th>Country_Region</th>\n",
              "      <th>Lat</th>\n",
              "      <th>Long_</th>\n",
              "      <th>Combined_Key</th>\n",
              "      <th>...</th>\n",
              "      <th>1/21/23</th>\n",
              "      <th>1/22/23</th>\n",
              "      <th>1/23/23</th>\n",
              "      <th>1/24/23</th>\n",
              "      <th>1/25/23</th>\n",
              "      <th>1/26/23</th>\n",
              "      <th>1/27/23</th>\n",
              "      <th>1/28/23</th>\n",
              "      <th>1/29/23</th>\n",
              "      <th>1/30/23</th>\n",
              "    </tr>\n",
              "    <tr>\n",
              "      <th>UID</th>\n",
              "      <th></th>\n",
              "      <th></th>\n",
              "      <th></th>\n",
              "      <th></th>\n",
              "      <th></th>\n",
              "      <th></th>\n",
              "      <th></th>\n",
              "      <th></th>\n",
              "      <th></th>\n",
              "      <th></th>\n",
              "      <th></th>\n",
              "      <th></th>\n",
              "      <th></th>\n",
              "      <th></th>\n",
              "      <th></th>\n",
              "      <th></th>\n",
              "      <th></th>\n",
              "      <th></th>\n",
              "      <th></th>\n",
              "      <th></th>\n",
              "      <th></th>\n",
              "    </tr>\n",
              "  </thead>\n",
              "  <tbody>\n",
              "    <tr>\n",
              "      <th>84001001</th>\n",
              "      <td>US</td>\n",
              "      <td>USA</td>\n",
              "      <td>840</td>\n",
              "      <td>1001.0</td>\n",
              "      <td>Autauga</td>\n",
              "      <td>Alabama</td>\n",
              "      <td>US</td>\n",
              "      <td>32.539527</td>\n",
              "      <td>-86.644082</td>\n",
              "      <td>Autauga, Alabama, US</td>\n",
              "      <td>...</td>\n",
              "      <td>230</td>\n",
              "      <td>230</td>\n",
              "      <td>230</td>\n",
              "      <td>230</td>\n",
              "      <td>230</td>\n",
              "      <td>230</td>\n",
              "      <td>230</td>\n",
              "      <td>230</td>\n",
              "      <td>230</td>\n",
              "      <td>230</td>\n",
              "    </tr>\n",
              "    <tr>\n",
              "      <th>84001003</th>\n",
              "      <td>US</td>\n",
              "      <td>USA</td>\n",
              "      <td>840</td>\n",
              "      <td>1003.0</td>\n",
              "      <td>Baldwin</td>\n",
              "      <td>Alabama</td>\n",
              "      <td>US</td>\n",
              "      <td>30.727750</td>\n",
              "      <td>-87.722071</td>\n",
              "      <td>Baldwin, Alabama, US</td>\n",
              "      <td>...</td>\n",
              "      <td>722</td>\n",
              "      <td>722</td>\n",
              "      <td>722</td>\n",
              "      <td>722</td>\n",
              "      <td>723</td>\n",
              "      <td>723</td>\n",
              "      <td>723</td>\n",
              "      <td>723</td>\n",
              "      <td>723</td>\n",
              "      <td>723</td>\n",
              "    </tr>\n",
              "    <tr>\n",
              "      <th>84001005</th>\n",
              "      <td>US</td>\n",
              "      <td>USA</td>\n",
              "      <td>840</td>\n",
              "      <td>1005.0</td>\n",
              "      <td>Barbour</td>\n",
              "      <td>Alabama</td>\n",
              "      <td>US</td>\n",
              "      <td>31.868263</td>\n",
              "      <td>-85.387129</td>\n",
              "      <td>Barbour, Alabama, US</td>\n",
              "      <td>...</td>\n",
              "      <td>103</td>\n",
              "      <td>103</td>\n",
              "      <td>103</td>\n",
              "      <td>103</td>\n",
              "      <td>103</td>\n",
              "      <td>103</td>\n",
              "      <td>103</td>\n",
              "      <td>103</td>\n",
              "      <td>103</td>\n",
              "      <td>103</td>\n",
              "    </tr>\n",
              "    <tr>\n",
              "      <th>84001007</th>\n",
              "      <td>US</td>\n",
              "      <td>USA</td>\n",
              "      <td>840</td>\n",
              "      <td>1007.0</td>\n",
              "      <td>Bibb</td>\n",
              "      <td>Alabama</td>\n",
              "      <td>US</td>\n",
              "      <td>32.996421</td>\n",
              "      <td>-87.125115</td>\n",
              "      <td>Bibb, Alabama, US</td>\n",
              "      <td>...</td>\n",
              "      <td>109</td>\n",
              "      <td>109</td>\n",
              "      <td>109</td>\n",
              "      <td>109</td>\n",
              "      <td>109</td>\n",
              "      <td>109</td>\n",
              "      <td>109</td>\n",
              "      <td>109</td>\n",
              "      <td>109</td>\n",
              "      <td>109</td>\n",
              "    </tr>\n",
              "    <tr>\n",
              "      <th>84001009</th>\n",
              "      <td>US</td>\n",
              "      <td>USA</td>\n",
              "      <td>840</td>\n",
              "      <td>1009.0</td>\n",
              "      <td>Blount</td>\n",
              "      <td>Alabama</td>\n",
              "      <td>US</td>\n",
              "      <td>33.982109</td>\n",
              "      <td>-86.567906</td>\n",
              "      <td>Blount, Alabama, US</td>\n",
              "      <td>...</td>\n",
              "      <td>261</td>\n",
              "      <td>261</td>\n",
              "      <td>261</td>\n",
              "      <td>261</td>\n",
              "      <td>261</td>\n",
              "      <td>261</td>\n",
              "      <td>261</td>\n",
              "      <td>261</td>\n",
              "      <td>261</td>\n",
              "      <td>261</td>\n",
              "    </tr>\n",
              "  </tbody>\n",
              "</table>\n",
              "<p>5 rows × 1116 columns</p>\n",
              "</div>\n",
              "      <button class=\"colab-df-convert\" onclick=\"convertToInteractive('df-0736c679-641e-4c57-8ef2-4f4eb6f5ad6b')\"\n",
              "              title=\"Convert this dataframe to an interactive table.\"\n",
              "              style=\"display:none;\">\n",
              "        \n",
              "  <svg xmlns=\"http://www.w3.org/2000/svg\" height=\"24px\"viewBox=\"0 0 24 24\"\n",
              "       width=\"24px\">\n",
              "    <path d=\"M0 0h24v24H0V0z\" fill=\"none\"/>\n",
              "    <path d=\"M18.56 5.44l.94 2.06.94-2.06 2.06-.94-2.06-.94-.94-2.06-.94 2.06-2.06.94zm-11 1L8.5 8.5l.94-2.06 2.06-.94-2.06-.94L8.5 2.5l-.94 2.06-2.06.94zm10 10l.94 2.06.94-2.06 2.06-.94-2.06-.94-.94-2.06-.94 2.06-2.06.94z\"/><path d=\"M17.41 7.96l-1.37-1.37c-.4-.4-.92-.59-1.43-.59-.52 0-1.04.2-1.43.59L10.3 9.45l-7.72 7.72c-.78.78-.78 2.05 0 2.83L4 21.41c.39.39.9.59 1.41.59.51 0 1.02-.2 1.41-.59l7.78-7.78 2.81-2.81c.8-.78.8-2.07 0-2.86zM5.41 20L4 18.59l7.72-7.72 1.47 1.35L5.41 20z\"/>\n",
              "  </svg>\n",
              "      </button>\n",
              "      \n",
              "  <style>\n",
              "    .colab-df-container {\n",
              "      display:flex;\n",
              "      flex-wrap:wrap;\n",
              "      gap: 12px;\n",
              "    }\n",
              "\n",
              "    .colab-df-convert {\n",
              "      background-color: #E8F0FE;\n",
              "      border: none;\n",
              "      border-radius: 50%;\n",
              "      cursor: pointer;\n",
              "      display: none;\n",
              "      fill: #1967D2;\n",
              "      height: 32px;\n",
              "      padding: 0 0 0 0;\n",
              "      width: 32px;\n",
              "    }\n",
              "\n",
              "    .colab-df-convert:hover {\n",
              "      background-color: #E2EBFA;\n",
              "      box-shadow: 0px 1px 2px rgba(60, 64, 67, 0.3), 0px 1px 3px 1px rgba(60, 64, 67, 0.15);\n",
              "      fill: #174EA6;\n",
              "    }\n",
              "\n",
              "    [theme=dark] .colab-df-convert {\n",
              "      background-color: #3B4455;\n",
              "      fill: #D2E3FC;\n",
              "    }\n",
              "\n",
              "    [theme=dark] .colab-df-convert:hover {\n",
              "      background-color: #434B5C;\n",
              "      box-shadow: 0px 1px 3px 1px rgba(0, 0, 0, 0.15);\n",
              "      filter: drop-shadow(0px 1px 2px rgba(0, 0, 0, 0.3));\n",
              "      fill: #FFFFFF;\n",
              "    }\n",
              "  </style>\n",
              "\n",
              "      <script>\n",
              "        const buttonEl =\n",
              "          document.querySelector('#df-0736c679-641e-4c57-8ef2-4f4eb6f5ad6b button.colab-df-convert');\n",
              "        buttonEl.style.display =\n",
              "          google.colab.kernel.accessAllowed ? 'block' : 'none';\n",
              "\n",
              "        async function convertToInteractive(key) {\n",
              "          const element = document.querySelector('#df-0736c679-641e-4c57-8ef2-4f4eb6f5ad6b');\n",
              "          const dataTable =\n",
              "            await google.colab.kernel.invokeFunction('convertToInteractive',\n",
              "                                                     [key], {});\n",
              "          if (!dataTable) return;\n",
              "\n",
              "          const docLinkHtml = 'Like what you see? Visit the ' +\n",
              "            '<a target=\"_blank\" href=https://colab.research.google.com/notebooks/data_table.ipynb>data table notebook</a>'\n",
              "            + ' to learn more about interactive tables.';\n",
              "          element.innerHTML = '';\n",
              "          dataTable['output_type'] = 'display_data';\n",
              "          await google.colab.output.renderOutput(dataTable, element);\n",
              "          const docLink = document.createElement('div');\n",
              "          docLink.innerHTML = docLinkHtml;\n",
              "          element.appendChild(docLink);\n",
              "        }\n",
              "      </script>\n",
              "    </div>\n",
              "  </div>\n",
              "  "
            ],
            "text/plain": [
              "         iso2 iso3  code3    FIPS   Admin2 Province_State Country_Region  \\\n",
              "UID                                                                        \n",
              "84001001   US  USA    840  1001.0  Autauga        Alabama             US   \n",
              "84001003   US  USA    840  1003.0  Baldwin        Alabama             US   \n",
              "84001005   US  USA    840  1005.0  Barbour        Alabama             US   \n",
              "84001007   US  USA    840  1007.0     Bibb        Alabama             US   \n",
              "84001009   US  USA    840  1009.0   Blount        Alabama             US   \n",
              "\n",
              "                Lat      Long_          Combined_Key  ...  1/21/23  1/22/23  \\\n",
              "UID                                                   ...                     \n",
              "84001001  32.539527 -86.644082  Autauga, Alabama, US  ...      230      230   \n",
              "84001003  30.727750 -87.722071  Baldwin, Alabama, US  ...      722      722   \n",
              "84001005  31.868263 -85.387129  Barbour, Alabama, US  ...      103      103   \n",
              "84001007  32.996421 -87.125115     Bibb, Alabama, US  ...      109      109   \n",
              "84001009  33.982109 -86.567906   Blount, Alabama, US  ...      261      261   \n",
              "\n",
              "          1/23/23  1/24/23  1/25/23  1/26/23  1/27/23  1/28/23  1/29/23  \\\n",
              "UID                                                                       \n",
              "84001001      230      230      230      230      230      230      230   \n",
              "84001003      722      722      723      723      723      723      723   \n",
              "84001005      103      103      103      103      103      103      103   \n",
              "84001007      109      109      109      109      109      109      109   \n",
              "84001009      261      261      261      261      261      261      261   \n",
              "\n",
              "          1/30/23  \n",
              "UID                \n",
              "84001001      230  \n",
              "84001003      723  \n",
              "84001005      103  \n",
              "84001007      109  \n",
              "84001009      261  \n",
              "\n",
              "[5 rows x 1116 columns]"
            ]
          },
          "execution_count": 3,
          "metadata": {},
          "output_type": "execute_result"
        }
      ],
      "source": [
        "url = \"https://raw.githubusercontent.com/CSSEGISandData/COVID-19/master/csse_covid_19_data/csse_covid_19_time_series/time_series_covid19_deaths_US.csv\"\n",
        "df = pd.read_csv(url,index_col=0)\n",
        "df.head()"
      ]
    },
    {
      "cell_type": "code",
      "execution_count": null,
      "metadata": {
        "id": "b5sRi3LB0Q2D"
      },
      "outputs": [],
      "source": [
        "daily_death = pd.DataFrame(df[df.columns[11:]].sum())\n",
        "daily_death.columns=['cum_death']\n",
        "daily_death['new_death']=daily_death['cum_death'].diff().fillna(daily_death['cum_death'])"
      ]
    },
    {
      "cell_type": "code",
      "execution_count": null,
      "metadata": {
        "colab": {
          "base_uri": "https://localhost:8080/",
          "height": 418
        },
        "id": "cptPQ2Sf1nZJ",
        "outputId": "777ce488-6c15-4640-94fa-c3f92434e8e7"
      },
      "outputs": [
        {
          "data": {
            "text/html": [
              "\n",
              "  <div id=\"df-d99063fb-9777-4904-8caa-09e9d891ca0a\">\n",
              "    <div class=\"colab-df-container\">\n",
              "      <div>\n",
              "<style scoped>\n",
              "    .dataframe tbody tr th:only-of-type {\n",
              "        vertical-align: middle;\n",
              "    }\n",
              "\n",
              "    .dataframe tbody tr th {\n",
              "        vertical-align: top;\n",
              "    }\n",
              "\n",
              "    .dataframe thead th {\n",
              "        text-align: right;\n",
              "    }\n",
              "</style>\n",
              "<table border=\"1\" class=\"dataframe\">\n",
              "  <thead>\n",
              "    <tr style=\"text-align: right;\">\n",
              "      <th></th>\n",
              "      <th>iso2</th>\n",
              "      <th>iso3</th>\n",
              "      <th>code3</th>\n",
              "      <th>FIPS</th>\n",
              "      <th>Admin2</th>\n",
              "      <th>Province_State</th>\n",
              "      <th>Country_Region</th>\n",
              "      <th>Lat</th>\n",
              "      <th>Long_</th>\n",
              "      <th>Combined_Key</th>\n",
              "      <th>...</th>\n",
              "      <th>11/30/22</th>\n",
              "      <th>12/1/22</th>\n",
              "      <th>12/2/22</th>\n",
              "      <th>12/3/22</th>\n",
              "      <th>12/4/22</th>\n",
              "      <th>12/5/22</th>\n",
              "      <th>12/6/22</th>\n",
              "      <th>12/7/22</th>\n",
              "      <th>12/8/22</th>\n",
              "      <th>12/9/22</th>\n",
              "    </tr>\n",
              "    <tr>\n",
              "      <th>UID</th>\n",
              "      <th></th>\n",
              "      <th></th>\n",
              "      <th></th>\n",
              "      <th></th>\n",
              "      <th></th>\n",
              "      <th></th>\n",
              "      <th></th>\n",
              "      <th></th>\n",
              "      <th></th>\n",
              "      <th></th>\n",
              "      <th></th>\n",
              "      <th></th>\n",
              "      <th></th>\n",
              "      <th></th>\n",
              "      <th></th>\n",
              "      <th></th>\n",
              "      <th></th>\n",
              "      <th></th>\n",
              "      <th></th>\n",
              "      <th></th>\n",
              "      <th></th>\n",
              "    </tr>\n",
              "  </thead>\n",
              "  <tbody>\n",
              "    <tr>\n",
              "      <th>84001001</th>\n",
              "      <td>US</td>\n",
              "      <td>USA</td>\n",
              "      <td>840</td>\n",
              "      <td>1001.0</td>\n",
              "      <td>Autauga</td>\n",
              "      <td>Alabama</td>\n",
              "      <td>US</td>\n",
              "      <td>32.539527</td>\n",
              "      <td>-86.644082</td>\n",
              "      <td>Autauga, Alabama, US</td>\n",
              "      <td>...</td>\n",
              "      <td>18680</td>\n",
              "      <td>18680</td>\n",
              "      <td>18680</td>\n",
              "      <td>18680</td>\n",
              "      <td>18680</td>\n",
              "      <td>18680</td>\n",
              "      <td>18680</td>\n",
              "      <td>18752</td>\n",
              "      <td>18752</td>\n",
              "      <td>18752</td>\n",
              "    </tr>\n",
              "    <tr>\n",
              "      <th>84001003</th>\n",
              "      <td>US</td>\n",
              "      <td>USA</td>\n",
              "      <td>840</td>\n",
              "      <td>1003.0</td>\n",
              "      <td>Baldwin</td>\n",
              "      <td>Alabama</td>\n",
              "      <td>US</td>\n",
              "      <td>30.727750</td>\n",
              "      <td>-87.722071</td>\n",
              "      <td>Baldwin, Alabama, US</td>\n",
              "      <td>...</td>\n",
              "      <td>66730</td>\n",
              "      <td>66730</td>\n",
              "      <td>66730</td>\n",
              "      <td>66730</td>\n",
              "      <td>66730</td>\n",
              "      <td>66730</td>\n",
              "      <td>66730</td>\n",
              "      <td>66951</td>\n",
              "      <td>66951</td>\n",
              "      <td>66951</td>\n",
              "    </tr>\n",
              "    <tr>\n",
              "      <th>84001005</th>\n",
              "      <td>US</td>\n",
              "      <td>USA</td>\n",
              "      <td>840</td>\n",
              "      <td>1005.0</td>\n",
              "      <td>Barbour</td>\n",
              "      <td>Alabama</td>\n",
              "      <td>US</td>\n",
              "      <td>31.868263</td>\n",
              "      <td>-85.387129</td>\n",
              "      <td>Barbour, Alabama, US</td>\n",
              "      <td>...</td>\n",
              "      <td>6980</td>\n",
              "      <td>6980</td>\n",
              "      <td>6980</td>\n",
              "      <td>6980</td>\n",
              "      <td>6980</td>\n",
              "      <td>6980</td>\n",
              "      <td>6980</td>\n",
              "      <td>6989</td>\n",
              "      <td>6989</td>\n",
              "      <td>6989</td>\n",
              "    </tr>\n",
              "    <tr>\n",
              "      <th>84001007</th>\n",
              "      <td>US</td>\n",
              "      <td>USA</td>\n",
              "      <td>840</td>\n",
              "      <td>1007.0</td>\n",
              "      <td>Bibb</td>\n",
              "      <td>Alabama</td>\n",
              "      <td>US</td>\n",
              "      <td>32.996421</td>\n",
              "      <td>-87.125115</td>\n",
              "      <td>Bibb, Alabama, US</td>\n",
              "      <td>...</td>\n",
              "      <td>7637</td>\n",
              "      <td>7637</td>\n",
              "      <td>7637</td>\n",
              "      <td>7637</td>\n",
              "      <td>7637</td>\n",
              "      <td>7637</td>\n",
              "      <td>7637</td>\n",
              "      <td>7653</td>\n",
              "      <td>7653</td>\n",
              "      <td>7653</td>\n",
              "    </tr>\n",
              "    <tr>\n",
              "      <th>84001009</th>\n",
              "      <td>US</td>\n",
              "      <td>USA</td>\n",
              "      <td>840</td>\n",
              "      <td>1009.0</td>\n",
              "      <td>Blount</td>\n",
              "      <td>Alabama</td>\n",
              "      <td>US</td>\n",
              "      <td>33.982109</td>\n",
              "      <td>-86.567906</td>\n",
              "      <td>Blount, Alabama, US</td>\n",
              "      <td>...</td>\n",
              "      <td>17500</td>\n",
              "      <td>17500</td>\n",
              "      <td>17500</td>\n",
              "      <td>17500</td>\n",
              "      <td>17500</td>\n",
              "      <td>17500</td>\n",
              "      <td>17500</td>\n",
              "      <td>17559</td>\n",
              "      <td>17559</td>\n",
              "      <td>17559</td>\n",
              "    </tr>\n",
              "  </tbody>\n",
              "</table>\n",
              "<p>5 rows × 1063 columns</p>\n",
              "</div>\n",
              "      <button class=\"colab-df-convert\" onclick=\"convertToInteractive('df-d99063fb-9777-4904-8caa-09e9d891ca0a')\"\n",
              "              title=\"Convert this dataframe to an interactive table.\"\n",
              "              style=\"display:none;\">\n",
              "        \n",
              "  <svg xmlns=\"http://www.w3.org/2000/svg\" height=\"24px\"viewBox=\"0 0 24 24\"\n",
              "       width=\"24px\">\n",
              "    <path d=\"M0 0h24v24H0V0z\" fill=\"none\"/>\n",
              "    <path d=\"M18.56 5.44l.94 2.06.94-2.06 2.06-.94-2.06-.94-.94-2.06-.94 2.06-2.06.94zm-11 1L8.5 8.5l.94-2.06 2.06-.94-2.06-.94L8.5 2.5l-.94 2.06-2.06.94zm10 10l.94 2.06.94-2.06 2.06-.94-2.06-.94-.94-2.06-.94 2.06-2.06.94z\"/><path d=\"M17.41 7.96l-1.37-1.37c-.4-.4-.92-.59-1.43-.59-.52 0-1.04.2-1.43.59L10.3 9.45l-7.72 7.72c-.78.78-.78 2.05 0 2.83L4 21.41c.39.39.9.59 1.41.59.51 0 1.02-.2 1.41-.59l7.78-7.78 2.81-2.81c.8-.78.8-2.07 0-2.86zM5.41 20L4 18.59l7.72-7.72 1.47 1.35L5.41 20z\"/>\n",
              "  </svg>\n",
              "      </button>\n",
              "      \n",
              "  <style>\n",
              "    .colab-df-container {\n",
              "      display:flex;\n",
              "      flex-wrap:wrap;\n",
              "      gap: 12px;\n",
              "    }\n",
              "\n",
              "    .colab-df-convert {\n",
              "      background-color: #E8F0FE;\n",
              "      border: none;\n",
              "      border-radius: 50%;\n",
              "      cursor: pointer;\n",
              "      display: none;\n",
              "      fill: #1967D2;\n",
              "      height: 32px;\n",
              "      padding: 0 0 0 0;\n",
              "      width: 32px;\n",
              "    }\n",
              "\n",
              "    .colab-df-convert:hover {\n",
              "      background-color: #E2EBFA;\n",
              "      box-shadow: 0px 1px 2px rgba(60, 64, 67, 0.3), 0px 1px 3px 1px rgba(60, 64, 67, 0.15);\n",
              "      fill: #174EA6;\n",
              "    }\n",
              "\n",
              "    [theme=dark] .colab-df-convert {\n",
              "      background-color: #3B4455;\n",
              "      fill: #D2E3FC;\n",
              "    }\n",
              "\n",
              "    [theme=dark] .colab-df-convert:hover {\n",
              "      background-color: #434B5C;\n",
              "      box-shadow: 0px 1px 3px 1px rgba(0, 0, 0, 0.15);\n",
              "      filter: drop-shadow(0px 1px 2px rgba(0, 0, 0, 0.3));\n",
              "      fill: #FFFFFF;\n",
              "    }\n",
              "  </style>\n",
              "\n",
              "      <script>\n",
              "        const buttonEl =\n",
              "          document.querySelector('#df-d99063fb-9777-4904-8caa-09e9d891ca0a button.colab-df-convert');\n",
              "        buttonEl.style.display =\n",
              "          google.colab.kernel.accessAllowed ? 'block' : 'none';\n",
              "\n",
              "        async function convertToInteractive(key) {\n",
              "          const element = document.querySelector('#df-d99063fb-9777-4904-8caa-09e9d891ca0a');\n",
              "          const dataTable =\n",
              "            await google.colab.kernel.invokeFunction('convertToInteractive',\n",
              "                                                     [key], {});\n",
              "          if (!dataTable) return;\n",
              "\n",
              "          const docLinkHtml = 'Like what you see? Visit the ' +\n",
              "            '<a target=\"_blank\" href=https://colab.research.google.com/notebooks/data_table.ipynb>data table notebook</a>'\n",
              "            + ' to learn more about interactive tables.';\n",
              "          element.innerHTML = '';\n",
              "          dataTable['output_type'] = 'display_data';\n",
              "          await google.colab.output.renderOutput(dataTable, element);\n",
              "          const docLink = document.createElement('div');\n",
              "          docLink.innerHTML = docLinkHtml;\n",
              "          element.appendChild(docLink);\n",
              "        }\n",
              "      </script>\n",
              "    </div>\n",
              "  </div>\n",
              "  "
            ],
            "text/plain": [
              "         iso2 iso3  code3    FIPS   Admin2 Province_State Country_Region  \\\n",
              "UID                                                                        \n",
              "84001001   US  USA    840  1001.0  Autauga        Alabama             US   \n",
              "84001003   US  USA    840  1003.0  Baldwin        Alabama             US   \n",
              "84001005   US  USA    840  1005.0  Barbour        Alabama             US   \n",
              "84001007   US  USA    840  1007.0     Bibb        Alabama             US   \n",
              "84001009   US  USA    840  1009.0   Blount        Alabama             US   \n",
              "\n",
              "                Lat      Long_          Combined_Key  ...  11/30/22  12/1/22  \\\n",
              "UID                                                   ...                      \n",
              "84001001  32.539527 -86.644082  Autauga, Alabama, US  ...     18680    18680   \n",
              "84001003  30.727750 -87.722071  Baldwin, Alabama, US  ...     66730    66730   \n",
              "84001005  31.868263 -85.387129  Barbour, Alabama, US  ...      6980     6980   \n",
              "84001007  32.996421 -87.125115     Bibb, Alabama, US  ...      7637     7637   \n",
              "84001009  33.982109 -86.567906   Blount, Alabama, US  ...     17500    17500   \n",
              "\n",
              "          12/2/22  12/3/22  12/4/22  12/5/22  12/6/22  12/7/22  12/8/22  \\\n",
              "UID                                                                       \n",
              "84001001    18680    18680    18680    18680    18680    18752    18752   \n",
              "84001003    66730    66730    66730    66730    66730    66951    66951   \n",
              "84001005     6980     6980     6980     6980     6980     6989     6989   \n",
              "84001007     7637     7637     7637     7637     7637     7653     7653   \n",
              "84001009    17500    17500    17500    17500    17500    17559    17559   \n",
              "\n",
              "          12/9/22  \n",
              "UID                \n",
              "84001001    18752  \n",
              "84001003    66951  \n",
              "84001005     6989  \n",
              "84001007     7653  \n",
              "84001009    17559  \n",
              "\n",
              "[5 rows x 1063 columns]"
            ]
          },
          "execution_count": 42,
          "metadata": {},
          "output_type": "execute_result"
        }
      ],
      "source": [
        "df_cases = pd.read_csv(\"https://raw.githubusercontent.com/CSSEGISandData/COVID-19/master/csse_covid_19_data/csse_covid_19_time_series/time_series_covid19_confirmed_US.csv\",index_col=0)\n",
        "df_cases.head()"
      ]
    },
    {
      "cell_type": "code",
      "execution_count": null,
      "metadata": {
        "colab": {
          "base_uri": "https://localhost:8080/",
          "height": 363
        },
        "id": "ZygpFIrw1xZc",
        "outputId": "2f045d24-0199-41cb-9248-4c44fd78c918"
      },
      "outputs": [
        {
          "data": {
            "text/html": [
              "\n",
              "  <div id=\"df-9b699859-0754-4e8e-b951-484d2b13adcb\">\n",
              "    <div class=\"colab-df-container\">\n",
              "      <div>\n",
              "<style scoped>\n",
              "    .dataframe tbody tr th:only-of-type {\n",
              "        vertical-align: middle;\n",
              "    }\n",
              "\n",
              "    .dataframe tbody tr th {\n",
              "        vertical-align: top;\n",
              "    }\n",
              "\n",
              "    .dataframe thead th {\n",
              "        text-align: right;\n",
              "    }\n",
              "</style>\n",
              "<table border=\"1\" class=\"dataframe\">\n",
              "  <thead>\n",
              "    <tr style=\"text-align: right;\">\n",
              "      <th></th>\n",
              "      <th>cum_cases</th>\n",
              "      <th>new_cases</th>\n",
              "    </tr>\n",
              "  </thead>\n",
              "  <tbody>\n",
              "    <tr>\n",
              "      <th>1/23/20</th>\n",
              "      <td>1</td>\n",
              "      <td>1.0</td>\n",
              "    </tr>\n",
              "    <tr>\n",
              "      <th>1/24/20</th>\n",
              "      <td>2</td>\n",
              "      <td>1.0</td>\n",
              "    </tr>\n",
              "    <tr>\n",
              "      <th>1/25/20</th>\n",
              "      <td>2</td>\n",
              "      <td>0.0</td>\n",
              "    </tr>\n",
              "    <tr>\n",
              "      <th>1/26/20</th>\n",
              "      <td>5</td>\n",
              "      <td>3.0</td>\n",
              "    </tr>\n",
              "    <tr>\n",
              "      <th>1/27/20</th>\n",
              "      <td>5</td>\n",
              "      <td>0.0</td>\n",
              "    </tr>\n",
              "    <tr>\n",
              "      <th>1/28/20</th>\n",
              "      <td>5</td>\n",
              "      <td>0.0</td>\n",
              "    </tr>\n",
              "    <tr>\n",
              "      <th>1/29/20</th>\n",
              "      <td>6</td>\n",
              "      <td>1.0</td>\n",
              "    </tr>\n",
              "    <tr>\n",
              "      <th>1/30/20</th>\n",
              "      <td>6</td>\n",
              "      <td>0.0</td>\n",
              "    </tr>\n",
              "    <tr>\n",
              "      <th>1/31/20</th>\n",
              "      <td>8</td>\n",
              "      <td>2.0</td>\n",
              "    </tr>\n",
              "    <tr>\n",
              "      <th>2/1/20</th>\n",
              "      <td>8</td>\n",
              "      <td>0.0</td>\n",
              "    </tr>\n",
              "  </tbody>\n",
              "</table>\n",
              "</div>\n",
              "      <button class=\"colab-df-convert\" onclick=\"convertToInteractive('df-9b699859-0754-4e8e-b951-484d2b13adcb')\"\n",
              "              title=\"Convert this dataframe to an interactive table.\"\n",
              "              style=\"display:none;\">\n",
              "        \n",
              "  <svg xmlns=\"http://www.w3.org/2000/svg\" height=\"24px\"viewBox=\"0 0 24 24\"\n",
              "       width=\"24px\">\n",
              "    <path d=\"M0 0h24v24H0V0z\" fill=\"none\"/>\n",
              "    <path d=\"M18.56 5.44l.94 2.06.94-2.06 2.06-.94-2.06-.94-.94-2.06-.94 2.06-2.06.94zm-11 1L8.5 8.5l.94-2.06 2.06-.94-2.06-.94L8.5 2.5l-.94 2.06-2.06.94zm10 10l.94 2.06.94-2.06 2.06-.94-2.06-.94-.94-2.06-.94 2.06-2.06.94z\"/><path d=\"M17.41 7.96l-1.37-1.37c-.4-.4-.92-.59-1.43-.59-.52 0-1.04.2-1.43.59L10.3 9.45l-7.72 7.72c-.78.78-.78 2.05 0 2.83L4 21.41c.39.39.9.59 1.41.59.51 0 1.02-.2 1.41-.59l7.78-7.78 2.81-2.81c.8-.78.8-2.07 0-2.86zM5.41 20L4 18.59l7.72-7.72 1.47 1.35L5.41 20z\"/>\n",
              "  </svg>\n",
              "      </button>\n",
              "      \n",
              "  <style>\n",
              "    .colab-df-container {\n",
              "      display:flex;\n",
              "      flex-wrap:wrap;\n",
              "      gap: 12px;\n",
              "    }\n",
              "\n",
              "    .colab-df-convert {\n",
              "      background-color: #E8F0FE;\n",
              "      border: none;\n",
              "      border-radius: 50%;\n",
              "      cursor: pointer;\n",
              "      display: none;\n",
              "      fill: #1967D2;\n",
              "      height: 32px;\n",
              "      padding: 0 0 0 0;\n",
              "      width: 32px;\n",
              "    }\n",
              "\n",
              "    .colab-df-convert:hover {\n",
              "      background-color: #E2EBFA;\n",
              "      box-shadow: 0px 1px 2px rgba(60, 64, 67, 0.3), 0px 1px 3px 1px rgba(60, 64, 67, 0.15);\n",
              "      fill: #174EA6;\n",
              "    }\n",
              "\n",
              "    [theme=dark] .colab-df-convert {\n",
              "      background-color: #3B4455;\n",
              "      fill: #D2E3FC;\n",
              "    }\n",
              "\n",
              "    [theme=dark] .colab-df-convert:hover {\n",
              "      background-color: #434B5C;\n",
              "      box-shadow: 0px 1px 3px 1px rgba(0, 0, 0, 0.15);\n",
              "      filter: drop-shadow(0px 1px 2px rgba(0, 0, 0, 0.3));\n",
              "      fill: #FFFFFF;\n",
              "    }\n",
              "  </style>\n",
              "\n",
              "      <script>\n",
              "        const buttonEl =\n",
              "          document.querySelector('#df-9b699859-0754-4e8e-b951-484d2b13adcb button.colab-df-convert');\n",
              "        buttonEl.style.display =\n",
              "          google.colab.kernel.accessAllowed ? 'block' : 'none';\n",
              "\n",
              "        async function convertToInteractive(key) {\n",
              "          const element = document.querySelector('#df-9b699859-0754-4e8e-b951-484d2b13adcb');\n",
              "          const dataTable =\n",
              "            await google.colab.kernel.invokeFunction('convertToInteractive',\n",
              "                                                     [key], {});\n",
              "          if (!dataTable) return;\n",
              "\n",
              "          const docLinkHtml = 'Like what you see? Visit the ' +\n",
              "            '<a target=\"_blank\" href=https://colab.research.google.com/notebooks/data_table.ipynb>data table notebook</a>'\n",
              "            + ' to learn more about interactive tables.';\n",
              "          element.innerHTML = '';\n",
              "          dataTable['output_type'] = 'display_data';\n",
              "          await google.colab.output.renderOutput(dataTable, element);\n",
              "          const docLink = document.createElement('div');\n",
              "          docLink.innerHTML = docLinkHtml;\n",
              "          element.appendChild(docLink);\n",
              "        }\n",
              "      </script>\n",
              "    </div>\n",
              "  </div>\n",
              "  "
            ],
            "text/plain": [
              "         cum_cases  new_cases\n",
              "1/23/20          1        1.0\n",
              "1/24/20          2        1.0\n",
              "1/25/20          2        0.0\n",
              "1/26/20          5        3.0\n",
              "1/27/20          5        0.0\n",
              "1/28/20          5        0.0\n",
              "1/29/20          6        1.0\n",
              "1/30/20          6        0.0\n",
              "1/31/20          8        2.0\n",
              "2/1/20           8        0.0"
            ]
          },
          "execution_count": 43,
          "metadata": {},
          "output_type": "execute_result"
        }
      ],
      "source": [
        "daily_cases = pd.DataFrame(df_cases[df_cases.columns[11:]].sum())\n",
        "daily_cases.columns=['cum_cases']\n",
        "daily_cases['new_cases']=daily_cases['cum_cases'].diff().fillna(daily_cases['cum_cases'])\n",
        "daily_cases.head(10)"
      ]
    },
    {
      "cell_type": "markdown",
      "metadata": {},
      "source": [
        "# Build SIRD model"
      ]
    },
    {
      "cell_type": "code",
      "execution_count": null,
      "metadata": {
        "id": "X7eV0xGHajF1"
      },
      "outputs": [],
      "source": [
        "import numpy as np\n",
        "from scipy.optimize import minimize, curve_fit\n",
        "from scipy import integrate, optimize\n",
        "import pandas as pd\n",
        "from scipy.integrate import odeint\n",
        "import matplotlib.pyplot as plt"
      ]
    },
    {
      "cell_type": "code",
      "execution_count": null,
      "metadata": {
        "id": "_yeg8nVeaofW"
      },
      "outputs": [],
      "source": [
        "def model(params, time_step):\n",
        "  beta, gamma, S0, I0, d = params\n",
        "  N = S0 + I0\n",
        "  S = [S0]\n",
        "  I = [I0]\n",
        "  R = [0]\n",
        "  D = [0]\n",
        "  dS =[]\n",
        "  dI = []\n",
        "  dR = []\n",
        "  dD = []\n",
        "  for t in range(0,time_step):\n",
        "    dS.append(-beta*I[t]*S[t]/N)\n",
        "    dI.append(beta*I[t]*S[t]/N- gamma*I[t] - d*I[t])\n",
        "    dR.append(gamma*I[t])\n",
        "    dD.append(d*I[t])\n",
        "    S.append(S[t] + dS[t])\n",
        "    I.append(I[t] + dI[t])\n",
        "    R.append(R[t] + dR[t])\n",
        "    D.append(D[t] + dD[t])\n",
        "  return I, D\n",
        "\n",
        "def error(params, time_step, actual_I, actual_D):\n",
        "  I_pred, D_pred = model(params, time_step)\n",
        "  beta, gamma, S0, I0, d = params\n",
        "  I_error = 0\n",
        "  D_error = 0\n",
        "  for t in range(0,time_step):\n",
        "    I_error+=abs(I_pred[t]-actual_I[t])\n",
        "    D_error+=abs(D_pred[t]-actual_D[t])\n",
        "  total_error = I_error + D_error\n",
        "  return total_error\n",
        "\n",
        "\n",
        "\n",
        "\n",
        "\n",
        "\n"
      ]
    },
    {
      "cell_type": "code",
      "execution_count": null,
      "metadata": {
        "id": "jjKF0_Vo2Kel"
      },
      "outputs": [],
      "source": [
        "actual_cum_cases = daily_cases[\"cum_cases\"]\n",
        "actual_cum_death = daily_death[\"cum_death\"]\n",
        "actual_cum_case = [i/10000000 for i in actual_cum_cases.values.tolist()]\n",
        "actual_cum_death = [i/10000000 for i in actual_cum_death.values.tolist()]\n"
      ]
    },
    {
      "cell_type": "markdown",
      "metadata": {},
      "source": [
        "### Assign an initial value and fit the parameter"
      ]
    },
    {
      "cell_type": "code",
      "execution_count": null,
      "metadata": {
        "id": "vgjNVMiSkzsN"
      },
      "outputs": [],
      "source": [
        "initial_value = [8.63e-1,1.53e-4,18.3,6.78e-5,8.6e-1]\n",
        "bnds = [(0, 1), (0, 1), (9, 50), (0, 1), (0, 1)]\n",
        "res = minimize(error,initial_value, args = (1028, actual_cum_cases, actual_cum_death), bounds = bnds, tol=1e-7, method = 'Nelder-Mead', options={'maxiter': 5000})"
      ]
    },
    {
      "cell_type": "code",
      "execution_count": null,
      "metadata": {
        "colab": {
          "base_uri": "https://localhost:8080/"
        },
        "id": "9GVwxhWNfmYO",
        "outputId": "2167b9e8-9130-41ac-98cb-8baf20d49c0b"
      },
      "outputs": [
        {
          "name": "stdout",
          "output_type": "stream",
          "text": [
            " final_simplex: (array([[8.63201345e-01, 2.48787398e-04, 1.26890726e+01, 6.77213074e-05,\n",
            "        8.59425852e-01],\n",
            "       [8.63201345e-01, 2.48787396e-04, 1.26890726e+01, 6.77213074e-05,\n",
            "        8.59425852e-01],\n",
            "       [8.63201345e-01, 2.48787397e-04, 1.26890726e+01, 6.77213073e-05,\n",
            "        8.59425852e-01],\n",
            "       [8.63201345e-01, 2.48787395e-04, 1.26890727e+01, 6.77213075e-05,\n",
            "        8.59425852e-01],\n",
            "       [8.63201345e-01, 2.48787397e-04, 1.26890726e+01, 6.77213076e-05,\n",
            "        8.59425852e-01],\n",
            "       [8.63201345e-01, 2.48787398e-04, 1.26890726e+01, 6.77213074e-05,\n",
            "        8.59425852e-01]]), array([4.22762574e+10, 4.22762574e+10, 4.22762574e+10, 4.22762574e+10,\n",
            "       4.22762574e+10, 4.22762574e+10]))\n",
            "           fun: 42276257373.543175\n",
            "       message: 'Optimization terminated successfully.'\n",
            "          nfev: 361\n",
            "           nit: 157\n",
            "        status: 0\n",
            "       success: True\n",
            "             x: array([8.63201345e-01, 2.48787398e-04, 1.26890726e+01, 6.77213074e-05,\n",
            "       8.59425852e-01])\n"
          ]
        }
      ],
      "source": [
        "print(res)"
      ]
    },
    {
      "cell_type": "markdown",
      "metadata": {},
      "source": [
        "### Use grid search to find the best initial param"
      ]
    },
    {
      "cell_type": "code",
      "execution_count": null,
      "metadata": {
        "id": "FWp5w6XbgpYZ"
      },
      "outputs": [],
      "source": [
        "from scipy.optimize import brute"
      ]
    },
    {
      "cell_type": "code",
      "execution_count": null,
      "metadata": {
        "colab": {
          "base_uri": "https://localhost:8080/"
        },
        "id": "74-fvjwqjaXc",
        "outputId": "296e3d1d-09ec-403c-cebc-e69d21703ede"
      },
      "outputs": [
        {
          "name": "stdout",
          "output_type": "stream",
          "text": [
            "Best coeffs: [8.63e-01 1.53e-04 1.83e+01 6.78e-05 8.60e-01]\n",
            "Score with best coeffs: 42276257374.381165\n",
            "Grid: [[[[[[0.863]], [[0.863]], [[0.863]], [[0.863]], [[0.863]], [[0.863]], [[0.863]], [[0.863]], [[0.863]], [[0.863]], [[0.863]], [[0.863]], [[0.863]], [[0.863]], [[0.863]], [[0.863]], [[0.863]], [[0.863]], [[0.863]], [[0.863]], [[0.863]], [[0.863]], [[0.863]], [[0.863]], [[0.863]], [[0.863]], [[0.863]], [[0.863]], [[0.863]], [[0.863]], [[0.863]], [[0.863]], [[0.863]], [[0.863]], [[0.863]], [[0.863]], [[0.863]], [[0.863]], [[0.863]], [[0.863]], [[0.863]], [[0.863]], [[0.863]], [[0.863]], [[0.863]], [[0.863]], [[0.863]], [[0.863]], [[0.863]], [[0.863]], [[0.863]], [[0.863]], [[0.863]], [[0.863]], [[0.863]], [[0.863]], [[0.863]], [[0.863]], [[0.863]], [[0.863]], [[0.863]], [[0.863]], [[0.863]], [[0.863]], [[0.863]], [[0.863]], [[0.863]], [[0.863]], [[0.863]], [[0.863]], [[0.863]], [[0.863]], [[0.863]], [[0.863]], [[0.863]], [[0.863]], [[0.863]], [[0.863]], [[0.863]], [[0.863]], [[0.863]], [[0.863]], [[0.863]], [[0.863]], [[0.863]], [[0.863]], [[0.863]], [[0.863]], [[0.863]], [[0.863]], [[0.863]], [[0.863]], [[0.863]], [[0.863]], [[0.863]], [[0.863]], [[0.863]], [[0.863]], [[0.863]], [[0.863]], [[0.863]], [[0.863]], [[0.863]], [[0.863]], [[0.863]], [[0.863]], [[0.863]], [[0.863]], [[0.863]], [[0.863]], [[0.863]], [[0.863]], [[0.863]], [[0.863]], [[0.863]], [[0.863]], [[0.863]], [[0.863]], [[0.863]], [[0.863]], [[0.863]], [[0.863]], [[0.863]], [[0.863]], [[0.863]], [[0.863]], [[0.863]], [[0.863]], [[0.863]], [[0.863]], [[0.863]], [[0.863]], [[0.863]], [[0.863]], [[0.863]], [[0.863]], [[0.863]], [[0.863]], [[0.863]], [[0.863]], [[0.863]], [[0.863]], [[0.863]], [[0.863]], [[0.863]], [[0.863]], [[0.863]], [[0.863]], [[0.863]], [[0.863]], [[0.863]], [[0.863]], [[0.863]], [[0.863]], [[0.863]], [[0.863]], [[0.863]], [[0.863]], [[0.863]], [[0.863]], [[0.863]], [[0.863]], [[0.863]], [[0.863]], [[0.863]], [[0.863]], [[0.863]], [[0.863]], [[0.863]], [[0.863]], [[0.863]], [[0.863]], [[0.863]], [[0.863]], [[0.863]], [[0.863]], [[0.863]], [[0.863]], [[0.863]], [[0.863]], [[0.863]], [[0.863]], [[0.863]], [[0.863]], [[0.863]], [[0.863]], [[0.863]], [[0.863]], [[0.863]], [[0.863]], [[0.863]], [[0.863]], [[0.863]], [[0.863]], [[0.863]], [[0.863]], [[0.863]], [[0.863]], [[0.863]], [[0.863]], [[0.863]], [[0.863]], [[0.863]], [[0.863]], [[0.863]], [[0.863]], [[0.863]], [[0.863]], [[0.863]], [[0.863]], [[0.863]], [[0.863]], [[0.863]], [[0.863]], [[0.863]], [[0.863]], [[0.863]], [[0.863]], [[0.863]], [[0.863]], [[0.863]], [[0.863]], [[0.863]], [[0.863]], [[0.863]], [[0.863]], [[0.863]], [[0.863]], [[0.863]], [[0.863]], [[0.863]], [[0.863]], [[0.863]], [[0.863]], [[0.863]], [[0.863]], [[0.863]], [[0.863]], [[0.863]], [[0.863]], [[0.863]], [[0.863]], [[0.863]], [[0.863]], [[0.863]], [[0.863]], [[0.863]], [[0.863]], [[0.863]], [[0.863]], [[0.863]], [[0.863]], [[0.863]], [[0.863]], [[0.863]], [[0.863]], [[0.863]], [[0.863]], [[0.863]], [[0.863]], [[0.863]], [[0.863]], [[0.863]], [[0.863]], [[0.863]], [[0.863]], [[0.863]], [[0.863]], [[0.863]], [[0.863]], [[0.863]], [[0.863]], [[0.863]], [[0.863]], [[0.863]], [[0.863]], [[0.863]], [[0.863]], [[0.863]], [[0.863]], [[0.863]], [[0.863]], [[0.863]], [[0.863]], [[0.863]], [[0.863]], [[0.863]], [[0.863]], [[0.863]], [[0.863]], [[0.863]], [[0.863]], [[0.863]], [[0.863]], [[0.863]], [[0.863]], [[0.863]], [[0.863]], [[0.863]], [[0.863]], [[0.863]], [[0.863]], [[0.863]], [[0.863]], [[0.863]], [[0.863]], [[0.863]], [[0.863]], [[0.863]], [[0.863]], [[0.863]], [[0.863]], [[0.863]], [[0.863]], [[0.863]], [[0.863]], [[0.863]], [[0.863]], [[0.863]], [[0.863]], [[0.863]], [[0.863]], [[0.863]], [[0.863]], [[0.863]], [[0.863]], [[0.863]], [[0.863]], [[0.863]], [[0.863]], [[0.863]], [[0.863]], [[0.863]], [[0.863]], [[0.863]], [[0.863]], [[0.863]], [[0.863]], [[0.863]], [[0.863]], [[0.863]], [[0.863]], [[0.863]], [[0.863]], [[0.863]], [[0.863]], [[0.863]], [[0.863]], [[0.863]], [[0.863]], [[0.863]], [[0.863]], [[0.863]], [[0.863]], [[0.863]], [[0.863]], [[0.863]], [[0.863]], [[0.863]], [[0.863]], [[0.863]], [[0.863]], [[0.863]], [[0.863]], [[0.863]], [[0.863]], [[0.863]], [[0.863]], [[0.863]], [[0.863]], [[0.863]], [[0.863]], [[0.863]], [[0.863]], [[0.863]], [[0.863]], [[0.863]], [[0.863]], [[0.863]], [[0.863]], [[0.863]], [[0.863]], [[0.863]], [[0.863]], [[0.863]], [[0.863]], [[0.863]], [[0.863]], [[0.863]], [[0.863]]]]], [[[[[0.000153]], [[0.000153]], [[0.000153]], [[0.000153]], [[0.000153]], [[0.000153]], [[0.000153]], [[0.000153]], [[0.000153]], [[0.000153]], [[0.000153]], [[0.000153]], [[0.000153]], [[0.000153]], [[0.000153]], [[0.000153]], [[0.000153]], [[0.000153]], [[0.000153]], [[0.000153]], [[0.000153]], [[0.000153]], [[0.000153]], [[0.000153]], [[0.000153]], [[0.000153]], [[0.000153]], [[0.000153]], [[0.000153]], [[0.000153]], [[0.000153]], [[0.000153]], [[0.000153]], [[0.000153]], [[0.000153]], [[0.000153]], [[0.000153]], [[0.000153]], [[0.000153]], [[0.000153]], [[0.000153]], [[0.000153]], [[0.000153]], [[0.000153]], [[0.000153]], [[0.000153]], [[0.000153]], [[0.000153]], [[0.000153]], [[0.000153]], [[0.000153]], [[0.000153]], [[0.000153]], [[0.000153]], [[0.000153]], [[0.000153]], [[0.000153]], [[0.000153]], [[0.000153]], [[0.000153]], [[0.000153]], [[0.000153]], [[0.000153]], [[0.000153]], [[0.000153]], [[0.000153]], [[0.000153]], [[0.000153]], [[0.000153]], [[0.000153]], [[0.000153]], [[0.000153]], [[0.000153]], [[0.000153]], [[0.000153]], [[0.000153]], [[0.000153]], [[0.000153]], [[0.000153]], [[0.000153]], [[0.000153]], [[0.000153]], [[0.000153]], [[0.000153]], [[0.000153]], [[0.000153]], [[0.000153]], [[0.000153]], [[0.000153]], [[0.000153]], [[0.000153]], [[0.000153]], [[0.000153]], [[0.000153]], [[0.000153]], [[0.000153]], [[0.000153]], [[0.000153]], [[0.000153]], [[0.000153]], [[0.000153]], [[0.000153]], [[0.000153]], [[0.000153]], [[0.000153]], [[0.000153]], [[0.000153]], [[0.000153]], [[0.000153]], [[0.000153]], [[0.000153]], [[0.000153]], [[0.000153]], [[0.000153]], [[0.000153]], [[0.000153]], [[0.000153]], [[0.000153]], [[0.000153]], [[0.000153]], [[0.000153]], [[0.000153]], [[0.000153]], [[0.000153]], [[0.000153]], [[0.000153]], [[0.000153]], [[0.000153]], [[0.000153]], [[0.000153]], [[0.000153]], [[0.000153]], [[0.000153]], [[0.000153]], [[0.000153]], [[0.000153]], [[0.000153]], [[0.000153]], [[0.000153]], [[0.000153]], [[0.000153]], [[0.000153]], [[0.000153]], [[0.000153]], [[0.000153]], [[0.000153]], [[0.000153]], [[0.000153]], [[0.000153]], [[0.000153]], [[0.000153]], [[0.000153]], [[0.000153]], [[0.000153]], [[0.000153]], [[0.000153]], [[0.000153]], [[0.000153]], [[0.000153]], [[0.000153]], [[0.000153]], [[0.000153]], [[0.000153]], [[0.000153]], [[0.000153]], [[0.000153]], [[0.000153]], [[0.000153]], [[0.000153]], [[0.000153]], [[0.000153]], [[0.000153]], [[0.000153]], [[0.000153]], [[0.000153]], [[0.000153]], [[0.000153]], [[0.000153]], [[0.000153]], [[0.000153]], [[0.000153]], [[0.000153]], [[0.000153]], [[0.000153]], [[0.000153]], [[0.000153]], [[0.000153]], [[0.000153]], [[0.000153]], [[0.000153]], [[0.000153]], [[0.000153]], [[0.000153]], [[0.000153]], [[0.000153]], [[0.000153]], [[0.000153]], [[0.000153]], [[0.000153]], [[0.000153]], [[0.000153]], [[0.000153]], [[0.000153]], [[0.000153]], [[0.000153]], [[0.000153]], [[0.000153]], [[0.000153]], [[0.000153]], [[0.000153]], [[0.000153]], [[0.000153]], [[0.000153]], [[0.000153]], [[0.000153]], [[0.000153]], [[0.000153]], [[0.000153]], [[0.000153]], [[0.000153]], [[0.000153]], [[0.000153]], [[0.000153]], [[0.000153]], [[0.000153]], [[0.000153]], [[0.000153]], [[0.000153]], [[0.000153]], [[0.000153]], [[0.000153]], [[0.000153]], [[0.000153]], [[0.000153]], [[0.000153]], [[0.000153]], [[0.000153]], [[0.000153]], [[0.000153]], [[0.000153]], [[0.000153]], [[0.000153]], [[0.000153]], [[0.000153]], [[0.000153]], [[0.000153]], [[0.000153]], [[0.000153]], [[0.000153]], [[0.000153]], [[0.000153]], [[0.000153]], [[0.000153]], [[0.000153]], [[0.000153]], [[0.000153]], [[0.000153]], [[0.000153]], [[0.000153]], [[0.000153]], [[0.000153]], [[0.000153]], [[0.000153]], [[0.000153]], [[0.000153]], [[0.000153]], [[0.000153]], [[0.000153]], [[0.000153]], [[0.000153]], [[0.000153]], [[0.000153]], [[0.000153]], [[0.000153]], [[0.000153]], [[0.000153]], [[0.000153]], [[0.000153]], [[0.000153]], [[0.000153]], [[0.000153]], [[0.000153]], [[0.000153]], [[0.000153]], [[0.000153]], [[0.000153]], [[0.000153]], [[0.000153]], [[0.000153]], [[0.000153]], [[0.000153]], [[0.000153]], [[0.000153]], [[0.000153]], [[0.000153]], [[0.000153]], [[0.000153]], [[0.000153]], [[0.000153]], [[0.000153]], [[0.000153]], [[0.000153]], [[0.000153]], [[0.000153]], [[0.000153]], [[0.000153]], [[0.000153]], [[0.000153]], [[0.000153]], [[0.000153]], [[0.000153]], [[0.000153]], [[0.000153]], [[0.000153]], [[0.000153]], [[0.000153]], [[0.000153]], [[0.000153]], [[0.000153]], [[0.000153]], [[0.000153]], [[0.000153]], [[0.000153]], [[0.000153]], [[0.000153]], [[0.000153]], [[0.000153]], [[0.000153]], [[0.000153]], [[0.000153]], [[0.000153]], [[0.000153]], [[0.000153]], [[0.000153]], [[0.000153]], [[0.000153]], [[0.000153]], [[0.000153]], [[0.000153]], [[0.000153]], [[0.000153]], [[0.000153]], [[0.000153]], [[0.000153]], [[0.000153]], [[0.000153]], [[0.000153]], [[0.000153]], [[0.000153]], [[0.000153]], [[0.000153]], [[0.000153]], [[0.000153]], [[0.000153]], [[0.000153]], [[0.000153]], [[0.000153]], [[0.000153]], [[0.000153]], [[0.000153]], [[0.000153]], [[0.000153]], [[0.000153]], [[0.000153]], [[0.000153]], [[0.000153]], [[0.000153]], [[0.000153]], [[0.000153]], [[0.000153]], [[0.000153]], [[0.000153]], [[0.000153]], [[0.000153]], [[0.000153]], [[0.000153]], [[0.000153]], [[0.000153]], [[0.000153]], [[0.000153]], [[0.000153]], [[0.000153]], [[0.000153]], [[0.000153]], [[0.000153]], [[0.000153]], [[0.000153]], [[0.000153]], [[0.000153]], [[0.000153]]]]], [[[[[1.0]], [[1.1]], [[1.2]], [[1.3]], [[1.4]], [[1.5]], [[1.6]], [[1.7000000000000002]], [[1.8]], [[1.9]], [[2.0]], [[2.1]], [[2.2]], [[2.3]], [[2.4000000000000004]], [[2.5]], [[2.6]], [[2.7]], [[2.8]], [[2.9000000000000004]], [[3.0]], [[3.1]], [[3.2]], [[3.3000000000000003]], [[3.4000000000000004]], [[3.5]], [[3.6]], [[3.7]], [[3.8000000000000003]], [[3.9000000000000004]], [[4.0]], [[4.1]], [[4.2]], [[4.300000000000001]], [[4.4]], [[4.5]], [[4.6]], [[4.7]], [[4.800000000000001]], [[4.9]], [[5.0]], [[5.1000000000000005]], [[5.2]], [[5.3]], [[5.4]], [[5.5]], [[5.6000000000000005]], [[5.7]], [[5.800000000000001]], [[5.9]], [[6.0]], [[6.1000000000000005]], [[6.2]], [[6.300000000000001]], [[6.4]], [[6.5]], [[6.6000000000000005]], [[6.7]], [[6.800000000000001]], [[6.9]], [[7.0]], [[7.1000000000000005]], [[7.2]], [[7.300000000000001]], [[7.4]], [[7.5]], [[7.6000000000000005]], [[7.7]], [[7.800000000000001]], [[7.9]], [[8.0]], [[8.100000000000001]], [[8.2]], [[8.3]], [[8.4]], [[8.5]], [[8.600000000000001]], [[8.7]], [[8.8]], [[8.9]], [[9.0]], [[9.1]], [[9.200000000000001]], [[9.3]], [[9.4]], [[9.5]], [[9.6]], [[9.700000000000001]], [[9.8]], [[9.9]], [[10.0]], [[10.1]], [[10.200000000000001]], [[10.3]], [[10.4]], [[10.5]], [[10.600000000000001]], [[10.700000000000001]], [[10.8]], [[10.9]], [[11.0]], [[11.100000000000001]], [[11.200000000000001]], [[11.3]], [[11.4]], [[11.5]], [[11.600000000000001]], [[11.700000000000001]], [[11.8]], [[11.9]], [[12.0]], [[12.100000000000001]], [[12.200000000000001]], [[12.3]], [[12.4]], [[12.5]], [[12.600000000000001]], [[12.700000000000001]], [[12.8]], [[12.9]], [[13.0]], [[13.100000000000001]], [[13.200000000000001]], [[13.3]], [[13.4]], [[13.5]], [[13.600000000000001]], [[13.700000000000001]], [[13.8]], [[13.9]], [[14.0]], [[14.100000000000001]], [[14.200000000000001]], [[14.3]], [[14.4]], [[14.5]], [[14.600000000000001]], [[14.700000000000001]], [[14.8]], [[14.9]], [[15.0]], [[15.100000000000001]], [[15.200000000000001]], [[15.3]], [[15.4]], [[15.5]], [[15.600000000000001]], [[15.700000000000001]], [[15.8]], [[15.9]], [[16.0]], [[16.1]], [[16.200000000000003]], [[16.3]], [[16.4]], [[16.5]], [[16.6]], [[16.700000000000003]], [[16.8]], [[16.9]], [[17.0]], [[17.1]], [[17.2]], [[17.3]], [[17.400000000000002]], [[17.5]], [[17.6]], [[17.7]], [[17.8]], [[17.900000000000002]], [[18.0]], [[18.1]], [[18.2]], [[18.3]], [[18.400000000000002]], [[18.5]], [[18.6]], [[18.7]], [[18.8]], [[18.900000000000002]], [[19.0]], [[19.1]], [[19.2]], [[19.3]], [[19.400000000000002]], [[19.5]], [[19.6]], [[19.7]], [[19.8]], [[19.900000000000002]], [[20.0]], [[20.1]], [[20.200000000000003]], [[20.3]], [[20.400000000000002]], [[20.5]], [[20.6]], [[20.700000000000003]], [[20.8]], [[20.900000000000002]], [[21.0]], [[21.1]], [[21.200000000000003]], [[21.3]], [[21.400000000000002]], [[21.5]], [[21.6]], [[21.700000000000003]], [[21.8]], [[21.900000000000002]], [[22.0]], [[22.1]], [[22.200000000000003]], [[22.3]], [[22.400000000000002]], [[22.5]], [[22.6]], [[22.700000000000003]], [[22.8]], [[22.900000000000002]], [[23.0]], [[23.1]], [[23.200000000000003]], [[23.3]], [[23.400000000000002]], [[23.5]], [[23.6]], [[23.700000000000003]], [[23.8]], [[23.900000000000002]], [[24.0]], [[24.1]], [[24.200000000000003]], [[24.3]], [[24.400000000000002]], [[24.5]], [[24.6]], [[24.700000000000003]], [[24.8]], [[24.900000000000002]], [[25.0]], [[25.1]], [[25.200000000000003]], [[25.3]], [[25.400000000000002]], [[25.5]], [[25.6]], [[25.700000000000003]], [[25.8]], [[25.900000000000002]], [[26.0]], [[26.1]], [[26.200000000000003]], [[26.3]], [[26.400000000000002]], [[26.5]], [[26.6]], [[26.700000000000003]], [[26.8]], [[26.900000000000002]], [[27.0]], [[27.1]], [[27.200000000000003]], [[27.3]], [[27.400000000000002]], [[27.5]], [[27.6]], [[27.700000000000003]], [[27.8]], [[27.900000000000002]], [[28.0]], [[28.1]], [[28.200000000000003]], [[28.3]], [[28.400000000000002]], [[28.5]], [[28.6]], [[28.700000000000003]], [[28.8]], [[28.900000000000002]], [[29.0]], [[29.1]], [[29.200000000000003]], [[29.3]], [[29.400000000000002]], [[29.5]], [[29.6]], [[29.700000000000003]], [[29.8]], [[29.900000000000002]], [[30.0]], [[30.1]], [[30.200000000000003]], [[30.3]], [[30.400000000000002]], [[30.5]], [[30.6]], [[30.700000000000003]], [[30.8]], [[30.900000000000002]], [[31.0]], [[31.1]], [[31.200000000000003]], [[31.3]], [[31.400000000000002]], [[31.5]], [[31.6]], [[31.700000000000003]], [[31.8]], [[31.900000000000002]], [[32.0]], [[32.1]], [[32.2]], [[32.3]], [[32.400000000000006]], [[32.5]], [[32.6]], [[32.7]], [[32.8]], [[32.900000000000006]], [[33.0]], [[33.1]], [[33.2]], [[33.300000000000004]], [[33.4]], [[33.5]], [[33.6]], [[33.7]], [[33.800000000000004]], [[33.9]], [[34.0]], [[34.1]], [[34.2]], [[34.300000000000004]], [[34.4]], [[34.5]], [[34.6]], [[34.7]], [[34.800000000000004]], [[34.9]], [[35.0]], [[35.1]], [[35.2]], [[35.300000000000004]], [[35.4]], [[35.5]], [[35.6]], [[35.7]], [[35.800000000000004]], [[35.9]], [[36.0]], [[36.1]], [[36.2]], [[36.300000000000004]], [[36.4]], [[36.5]], [[36.6]], [[36.7]], [[36.800000000000004]], [[36.9]], [[37.0]], [[37.1]], [[37.2]], [[37.300000000000004]], [[37.4]], [[37.5]], [[37.6]], [[37.7]], [[37.800000000000004]], [[37.9]], [[38.0]], [[38.1]], [[38.2]], [[38.300000000000004]], [[38.4]], [[38.5]], [[38.6]], [[38.7]], [[38.800000000000004]], [[38.9]], [[39.0]], [[39.1]], [[39.2]], [[39.300000000000004]], [[39.400000000000006]], [[39.5]], [[39.6]], [[39.7]], [[39.800000000000004]], [[39.900000000000006]]]]], [[[[[6.78e-05]], [[6.78e-05]], [[6.78e-05]], [[6.78e-05]], [[6.78e-05]], [[6.78e-05]], [[6.78e-05]], [[6.78e-05]], [[6.78e-05]], [[6.78e-05]], [[6.78e-05]], [[6.78e-05]], [[6.78e-05]], [[6.78e-05]], [[6.78e-05]], [[6.78e-05]], [[6.78e-05]], [[6.78e-05]], [[6.78e-05]], [[6.78e-05]], [[6.78e-05]], [[6.78e-05]], [[6.78e-05]], [[6.78e-05]], [[6.78e-05]], [[6.78e-05]], [[6.78e-05]], [[6.78e-05]], [[6.78e-05]], [[6.78e-05]], [[6.78e-05]], [[6.78e-05]], [[6.78e-05]], [[6.78e-05]], [[6.78e-05]], [[6.78e-05]], [[6.78e-05]], [[6.78e-05]], [[6.78e-05]], [[6.78e-05]], [[6.78e-05]], [[6.78e-05]], [[6.78e-05]], [[6.78e-05]], [[6.78e-05]], [[6.78e-05]], [[6.78e-05]], [[6.78e-05]], [[6.78e-05]], [[6.78e-05]], [[6.78e-05]], [[6.78e-05]], [[6.78e-05]], [[6.78e-05]], [[6.78e-05]], [[6.78e-05]], [[6.78e-05]], [[6.78e-05]], [[6.78e-05]], [[6.78e-05]], [[6.78e-05]], [[6.78e-05]], [[6.78e-05]], [[6.78e-05]], [[6.78e-05]], [[6.78e-05]], [[6.78e-05]], [[6.78e-05]], [[6.78e-05]], [[6.78e-05]], [[6.78e-05]], [[6.78e-05]], [[6.78e-05]], [[6.78e-05]], [[6.78e-05]], [[6.78e-05]], [[6.78e-05]], [[6.78e-05]], [[6.78e-05]], [[6.78e-05]], [[6.78e-05]], [[6.78e-05]], [[6.78e-05]], [[6.78e-05]], [[6.78e-05]], [[6.78e-05]], [[6.78e-05]], [[6.78e-05]], [[6.78e-05]], [[6.78e-05]], [[6.78e-05]], [[6.78e-05]], [[6.78e-05]], [[6.78e-05]], [[6.78e-05]], [[6.78e-05]], [[6.78e-05]], [[6.78e-05]], [[6.78e-05]], [[6.78e-05]], [[6.78e-05]], [[6.78e-05]], [[6.78e-05]], [[6.78e-05]], [[6.78e-05]], [[6.78e-05]], [[6.78e-05]], [[6.78e-05]], [[6.78e-05]], [[6.78e-05]], [[6.78e-05]], [[6.78e-05]], [[6.78e-05]], [[6.78e-05]], [[6.78e-05]], [[6.78e-05]], [[6.78e-05]], [[6.78e-05]], [[6.78e-05]], [[6.78e-05]], [[6.78e-05]], [[6.78e-05]], [[6.78e-05]], [[6.78e-05]], [[6.78e-05]], [[6.78e-05]], [[6.78e-05]], [[6.78e-05]], [[6.78e-05]], [[6.78e-05]], [[6.78e-05]], [[6.78e-05]], [[6.78e-05]], [[6.78e-05]], [[6.78e-05]], [[6.78e-05]], [[6.78e-05]], [[6.78e-05]], [[6.78e-05]], [[6.78e-05]], [[6.78e-05]], [[6.78e-05]], [[6.78e-05]], [[6.78e-05]], [[6.78e-05]], [[6.78e-05]], [[6.78e-05]], [[6.78e-05]], [[6.78e-05]], [[6.78e-05]], [[6.78e-05]], [[6.78e-05]], [[6.78e-05]], [[6.78e-05]], [[6.78e-05]], [[6.78e-05]], [[6.78e-05]], [[6.78e-05]], [[6.78e-05]], [[6.78e-05]], [[6.78e-05]], [[6.78e-05]], [[6.78e-05]], [[6.78e-05]], [[6.78e-05]], [[6.78e-05]], [[6.78e-05]], [[6.78e-05]], [[6.78e-05]], [[6.78e-05]], [[6.78e-05]], [[6.78e-05]], [[6.78e-05]], [[6.78e-05]], [[6.78e-05]], [[6.78e-05]], [[6.78e-05]], [[6.78e-05]], [[6.78e-05]], [[6.78e-05]], [[6.78e-05]], [[6.78e-05]], [[6.78e-05]], [[6.78e-05]], [[6.78e-05]], [[6.78e-05]], [[6.78e-05]], [[6.78e-05]], [[6.78e-05]], [[6.78e-05]], [[6.78e-05]], [[6.78e-05]], [[6.78e-05]], [[6.78e-05]], [[6.78e-05]], [[6.78e-05]], [[6.78e-05]], [[6.78e-05]], [[6.78e-05]], [[6.78e-05]], [[6.78e-05]], [[6.78e-05]], [[6.78e-05]], [[6.78e-05]], [[6.78e-05]], [[6.78e-05]], [[6.78e-05]], [[6.78e-05]], [[6.78e-05]], [[6.78e-05]], [[6.78e-05]], [[6.78e-05]], [[6.78e-05]], [[6.78e-05]], [[6.78e-05]], [[6.78e-05]], [[6.78e-05]], [[6.78e-05]], [[6.78e-05]], [[6.78e-05]], [[6.78e-05]], [[6.78e-05]], [[6.78e-05]], [[6.78e-05]], [[6.78e-05]], [[6.78e-05]], [[6.78e-05]], [[6.78e-05]], [[6.78e-05]], [[6.78e-05]], [[6.78e-05]], [[6.78e-05]], [[6.78e-05]], [[6.78e-05]], [[6.78e-05]], [[6.78e-05]], [[6.78e-05]], [[6.78e-05]], [[6.78e-05]], [[6.78e-05]], [[6.78e-05]], [[6.78e-05]], [[6.78e-05]], [[6.78e-05]], [[6.78e-05]], [[6.78e-05]], [[6.78e-05]], [[6.78e-05]], [[6.78e-05]], [[6.78e-05]], [[6.78e-05]], [[6.78e-05]], [[6.78e-05]], [[6.78e-05]], [[6.78e-05]], [[6.78e-05]], [[6.78e-05]], [[6.78e-05]], [[6.78e-05]], [[6.78e-05]], [[6.78e-05]], [[6.78e-05]], [[6.78e-05]], [[6.78e-05]], [[6.78e-05]], [[6.78e-05]], [[6.78e-05]], [[6.78e-05]], [[6.78e-05]], [[6.78e-05]], [[6.78e-05]], [[6.78e-05]], [[6.78e-05]], [[6.78e-05]], [[6.78e-05]], [[6.78e-05]], [[6.78e-05]], [[6.78e-05]], [[6.78e-05]], [[6.78e-05]], [[6.78e-05]], [[6.78e-05]], [[6.78e-05]], [[6.78e-05]], [[6.78e-05]], [[6.78e-05]], [[6.78e-05]], [[6.78e-05]], [[6.78e-05]], [[6.78e-05]], [[6.78e-05]], [[6.78e-05]], [[6.78e-05]], [[6.78e-05]], [[6.78e-05]], [[6.78e-05]], [[6.78e-05]], [[6.78e-05]], [[6.78e-05]], [[6.78e-05]], [[6.78e-05]], [[6.78e-05]], [[6.78e-05]], [[6.78e-05]], [[6.78e-05]], [[6.78e-05]], [[6.78e-05]], [[6.78e-05]], [[6.78e-05]], [[6.78e-05]], [[6.78e-05]], [[6.78e-05]], [[6.78e-05]], [[6.78e-05]], [[6.78e-05]], [[6.78e-05]], [[6.78e-05]], [[6.78e-05]], [[6.78e-05]], [[6.78e-05]], [[6.78e-05]], [[6.78e-05]], [[6.78e-05]], [[6.78e-05]], [[6.78e-05]], [[6.78e-05]], [[6.78e-05]], [[6.78e-05]], [[6.78e-05]], [[6.78e-05]], [[6.78e-05]], [[6.78e-05]], [[6.78e-05]], [[6.78e-05]], [[6.78e-05]], [[6.78e-05]], [[6.78e-05]], [[6.78e-05]], [[6.78e-05]], [[6.78e-05]], [[6.78e-05]], [[6.78e-05]], [[6.78e-05]], [[6.78e-05]], [[6.78e-05]], [[6.78e-05]], [[6.78e-05]], [[6.78e-05]], [[6.78e-05]], [[6.78e-05]], [[6.78e-05]], [[6.78e-05]], [[6.78e-05]], [[6.78e-05]], [[6.78e-05]], [[6.78e-05]], [[6.78e-05]], [[6.78e-05]], [[6.78e-05]], [[6.78e-05]], [[6.78e-05]], [[6.78e-05]], [[6.78e-05]], [[6.78e-05]], [[6.78e-05]], [[6.78e-05]], [[6.78e-05]], [[6.78e-05]], [[6.78e-05]], [[6.78e-05]], [[6.78e-05]], [[6.78e-05]], [[6.78e-05]], [[6.78e-05]], [[6.78e-05]], [[6.78e-05]], [[6.78e-05]], [[6.78e-05]], [[6.78e-05]], [[6.78e-05]], [[6.78e-05]], [[6.78e-05]], [[6.78e-05]], [[6.78e-05]], [[6.78e-05]], [[6.78e-05]], [[6.78e-05]], [[6.78e-05]], [[6.78e-05]], [[6.78e-05]]]]], [[[[[0.86]], [[0.86]], [[0.86]], [[0.86]], [[0.86]], [[0.86]], [[0.86]], [[0.86]], [[0.86]], [[0.86]], [[0.86]], [[0.86]], [[0.86]], [[0.86]], [[0.86]], [[0.86]], [[0.86]], [[0.86]], [[0.86]], [[0.86]], [[0.86]], [[0.86]], [[0.86]], [[0.86]], [[0.86]], [[0.86]], [[0.86]], [[0.86]], [[0.86]], [[0.86]], [[0.86]], [[0.86]], [[0.86]], [[0.86]], [[0.86]], [[0.86]], [[0.86]], [[0.86]], [[0.86]], [[0.86]], [[0.86]], [[0.86]], [[0.86]], [[0.86]], [[0.86]], [[0.86]], [[0.86]], [[0.86]], [[0.86]], [[0.86]], [[0.86]], [[0.86]], [[0.86]], [[0.86]], [[0.86]], [[0.86]], [[0.86]], [[0.86]], [[0.86]], [[0.86]], [[0.86]], [[0.86]], [[0.86]], [[0.86]], [[0.86]], [[0.86]], [[0.86]], [[0.86]], [[0.86]], [[0.86]], [[0.86]], [[0.86]], [[0.86]], [[0.86]], [[0.86]], [[0.86]], [[0.86]], [[0.86]], [[0.86]], [[0.86]], [[0.86]], [[0.86]], [[0.86]], [[0.86]], [[0.86]], [[0.86]], [[0.86]], [[0.86]], [[0.86]], [[0.86]], [[0.86]], [[0.86]], [[0.86]], [[0.86]], [[0.86]], [[0.86]], [[0.86]], [[0.86]], [[0.86]], [[0.86]], [[0.86]], [[0.86]], [[0.86]], [[0.86]], [[0.86]], [[0.86]], [[0.86]], [[0.86]], [[0.86]], [[0.86]], [[0.86]], [[0.86]], [[0.86]], [[0.86]], [[0.86]], [[0.86]], [[0.86]], [[0.86]], [[0.86]], [[0.86]], [[0.86]], [[0.86]], [[0.86]], [[0.86]], [[0.86]], [[0.86]], [[0.86]], [[0.86]], [[0.86]], [[0.86]], [[0.86]], [[0.86]], [[0.86]], [[0.86]], [[0.86]], [[0.86]], [[0.86]], [[0.86]], [[0.86]], [[0.86]], [[0.86]], [[0.86]], [[0.86]], [[0.86]], [[0.86]], [[0.86]], [[0.86]], [[0.86]], [[0.86]], [[0.86]], [[0.86]], [[0.86]], [[0.86]], [[0.86]], [[0.86]], [[0.86]], [[0.86]], [[0.86]], [[0.86]], [[0.86]], [[0.86]], [[0.86]], [[0.86]], [[0.86]], [[0.86]], [[0.86]], [[0.86]], [[0.86]], [[0.86]], [[0.86]], [[0.86]], [[0.86]], [[0.86]], [[0.86]], [[0.86]], [[0.86]], [[0.86]], [[0.86]], [[0.86]], [[0.86]], [[0.86]], [[0.86]], [[0.86]], [[0.86]], [[0.86]], [[0.86]], [[0.86]], [[0.86]], [[0.86]], [[0.86]], [[0.86]], [[0.86]], [[0.86]], [[0.86]], [[0.86]], [[0.86]], [[0.86]], [[0.86]], [[0.86]], [[0.86]], [[0.86]], [[0.86]], [[0.86]], [[0.86]], [[0.86]], [[0.86]], [[0.86]], [[0.86]], [[0.86]], [[0.86]], [[0.86]], [[0.86]], [[0.86]], [[0.86]], [[0.86]], [[0.86]], [[0.86]], [[0.86]], [[0.86]], [[0.86]], [[0.86]], [[0.86]], [[0.86]], [[0.86]], [[0.86]], [[0.86]], [[0.86]], [[0.86]], [[0.86]], [[0.86]], [[0.86]], [[0.86]], [[0.86]], [[0.86]], [[0.86]], [[0.86]], [[0.86]], [[0.86]], [[0.86]], [[0.86]], [[0.86]], [[0.86]], [[0.86]], [[0.86]], [[0.86]], [[0.86]], [[0.86]], [[0.86]], [[0.86]], [[0.86]], [[0.86]], [[0.86]], [[0.86]], [[0.86]], [[0.86]], [[0.86]], [[0.86]], [[0.86]], [[0.86]], [[0.86]], [[0.86]], [[0.86]], [[0.86]], [[0.86]], [[0.86]], [[0.86]], [[0.86]], [[0.86]], [[0.86]], [[0.86]], [[0.86]], [[0.86]], [[0.86]], [[0.86]], [[0.86]], [[0.86]], [[0.86]], [[0.86]], [[0.86]], [[0.86]], [[0.86]], [[0.86]], [[0.86]], [[0.86]], [[0.86]], [[0.86]], [[0.86]], [[0.86]], [[0.86]], [[0.86]], [[0.86]], [[0.86]], [[0.86]], [[0.86]], [[0.86]], [[0.86]], [[0.86]], [[0.86]], [[0.86]], [[0.86]], [[0.86]], [[0.86]], [[0.86]], [[0.86]], [[0.86]], [[0.86]], [[0.86]], [[0.86]], [[0.86]], [[0.86]], [[0.86]], [[0.86]], [[0.86]], [[0.86]], [[0.86]], [[0.86]], [[0.86]], [[0.86]], [[0.86]], [[0.86]], [[0.86]], [[0.86]], [[0.86]], [[0.86]], [[0.86]], [[0.86]], [[0.86]], [[0.86]], [[0.86]], [[0.86]], [[0.86]], [[0.86]], [[0.86]], [[0.86]], [[0.86]], [[0.86]], [[0.86]], [[0.86]], [[0.86]], [[0.86]], [[0.86]], [[0.86]], [[0.86]], [[0.86]], [[0.86]], [[0.86]], [[0.86]], [[0.86]], [[0.86]], [[0.86]], [[0.86]], [[0.86]], [[0.86]], [[0.86]], [[0.86]], [[0.86]], [[0.86]], [[0.86]], [[0.86]], [[0.86]], [[0.86]], [[0.86]], [[0.86]], [[0.86]], [[0.86]], [[0.86]], [[0.86]], [[0.86]], [[0.86]], [[0.86]], [[0.86]], [[0.86]], [[0.86]], [[0.86]], [[0.86]], [[0.86]], [[0.86]], [[0.86]], [[0.86]], [[0.86]], [[0.86]], [[0.86]], [[0.86]], [[0.86]], [[0.86]], [[0.86]], [[0.86]], [[0.86]], [[0.86]], [[0.86]]]]]]\n",
            "Scores for grid: [[[[[42276257416.69559]], [[42276257415.98136]], [[42276257415.295685]], [[42276257414.63543]], [[42276257413.99786]], [[42276257413.38088]], [[42276257412.78272]], [[42276257412.20174]], [[42276257411.636635]], [[42276257411.08623]], [[42276257410.54951]], [[42276257410.025604]], [[42276257409.51375]], [[42276257409.01322]], [[42276257408.523384]], [[42276257408.043655]], [[42276257407.57353]], [[42276257407.11255]], [[42276257406.660255]], [[42276257406.2162]], [[42276257405.78009]], [[42276257405.35165]], [[42276257404.93048]], [[42276257404.51631]], [[42276257404.10887]], [[42276257403.70787]], [[42276257403.313095]], [[42276257402.924355]], [[42276257402.54141]], [[42276257402.164]], [[42276257401.792015]], [[42276257401.425255]], [[42276257401.06363]], [[42276257400.70691]], [[42276257400.355]], [[42276257400.00783]], [[42276257399.665215]], [[42276257399.327]], [[42276257398.993065]], [[42276257398.66331]], [[42276257398.33757]], [[42276257398.015785]], [[42276257397.69786]], [[42276257397.38368]], [[42276257397.07317]], [[42276257396.76626]], [[42276257396.462814]], [[42276257396.16281]], [[42276257395.86613]], [[42276257395.572624]], [[42276257395.2823]], [[42276257394.99512]], [[42276257394.71098]], [[42276257394.429825]], [[42276257394.1516]], [[42276257393.87626]], [[42276257393.603714]], [[42276257393.33391]], [[42276257393.06679]], [[42276257392.802376]], [[42276257392.54059]], [[42276257392.28131]], [[42276257392.02457]], [[42276257391.77024]], [[42276257391.518265]], [[42276257391.26867]], [[42276257391.02136]], [[42276257390.7764]], [[42276257390.533646]], [[42276257390.2931]], [[42276257390.054695]], [[42276257389.818436]], [[42276257389.58424]], [[42276257389.352135]], [[42276257389.122055]], [[42276257388.89397]], [[42276257388.66781]], [[42276257388.44358]], [[42276257388.221275]], [[42276257388.00084]], [[42276257387.78222]], [[42276257387.56542]], [[42276257387.35041]], [[42276257387.137146]], [[42276257386.9256]], [[42276257386.71578]], [[42276257386.50765]], [[42276257386.30114]], [[42276257386.09626]], [[42276257385.89302]], [[42276257385.691444]], [[42276257385.49152]], [[42276257385.29334]], [[42276257385.09691]], [[42276257384.90201]], [[42276257384.708664]], [[42276257384.51687]], [[42276257384.32656]], [[42276257384.13771]], [[42276257383.95037]], [[42276257383.764465]], [[42276257383.57992]], [[42276257383.3967]], [[42276257383.21484]], [[42276257383.03434]], [[42276257382.85511]], [[42276257382.67714]], [[42276257382.50045]], [[42276257382.325005]], [[42276257382.1508]], [[42276257381.97782]], [[42276257381.80606]], [[42276257381.635506]], [[42276257381.4661]], [[42276257381.297874]], [[42276257381.13083]], [[42276257380.96494]], [[42276257380.80022]], [[42276257380.63655]], [[42276257380.47395]], [[42276257380.31248]], [[42276257380.152016]], [[42276257379.99262]], [[42276257379.83425]], [[42276257379.67694]], [[42276257379.520615]], [[42276257379.36534]], [[42276257379.21106]], [[42276257379.057686]], [[42276257378.90535]], [[42276257378.753944]], [[42276257378.60353]], [[42276257378.45409]], [[42276257378.305565]], [[42276257378.158]], [[42276257378.01134]], [[42276257377.86559]], [[42276257377.72073]], [[42276257377.57681]], [[42276257377.43379]], [[42276257377.29161]], [[42276257377.15029]], [[42276257377.009796]], [[42276257376.87015]], [[42276257376.73132]], [[42276257376.59329]], [[42276257376.45604]], [[42276257376.319626]], [[42276257376.184044]], [[42276257376.04923]], [[42276257375.91523]], [[42276257375.781944]], [[42276257375.64946]], [[42276257375.51773]], [[42276257375.38674]], [[42276257375.25677]], [[42276257375.13454]], [[42276257375.02427]], [[42276257374.92528]], [[42276257374.83749]], [[42276257374.75998]], [[42276257374.69135]], [[42276257374.63152]], [[42276257374.57987]], [[42276257374.53649]], [[42276257374.50016]], [[42276257374.47038]], [[42276257374.44572]], [[42276257374.42634]], [[42276257374.410484]], [[42276257374.398155]], [[42276257374.3893]], [[42276257374.3836]], [[42276257374.381165]], [[42276257374.38134]], [[42276257374.3844]], [[42276257374.39079]], [[42276257374.40209]], [[42276257374.42163]], [[42276257374.4484]], [[42276257374.480965]], [[42276257374.51823]], [[42276257374.559586]], [[42276257374.60643]], [[42276257374.65621]], [[42276257374.70943]], [[42276257374.7649]], [[42276257374.8222]], [[42276257374.88083]], [[42276257374.940735]], [[42276257375.00213]], [[42276257375.06549]], [[42276257375.12984]], [[42276257375.19583]], [[42276257375.26277]], [[42276257375.33149]], [[42276257375.40213]], [[42276257375.47358]], [[42276257375.54662]], [[42276257375.62152]], [[42276257375.697945]], [[42276257375.77612]], [[42276257375.857]], [[42276257375.94198]], [[42276257376.03001]], [[42276257376.11804]], [[42276257376.205826]], [[42276257376.293236]], [[42276257376.380295]], [[42276257376.466995]], [[42276257376.55336]], [[42276257376.63941]], [[42276257376.7251]], [[42276257376.810486]], [[42276257376.89556]], [[42276257376.980255]], [[42276257377.06474]], [[42276257377.14887]], [[42276257377.232605]], [[42276257377.31608]], [[42276257377.39922]], [[42276257377.48208]], [[42276257377.56454]], [[42276257377.64673]], [[42276257377.7287]], [[42276257377.81024]], [[42276257377.89147]], [[42276257377.97245]], [[42276257378.05309]], [[42276257378.133385]], [[42276257378.2134]], [[42276257378.29315]], [[42276257378.372475]], [[42276257378.45155]], [[42276257378.53042]], [[42276257378.60894]], [[42276257378.687065]], [[42276257378.765]], [[42276257378.84266]], [[42276257378.91993]], [[42276257378.99696]], [[42276257379.07375]], [[42276257379.150185]], [[42276257379.22632]], [[42276257379.30225]], [[42276257379.3779]], [[42276257379.45315]], [[42276257379.52818]], [[42276257379.602974]], [[42276257379.67745]], [[42276257379.75157]], [[42276257379.82551]], [[42276257379.8992]], [[42276257379.97254]], [[42276257380.0456]], [[42276257380.1184]], [[42276257380.190956]], [[42276257380.26321]], [[42276257380.33523]], [[42276257380.406944]], [[42276257380.47834]], [[42276257380.54956]], [[42276257380.620544]], [[42276257380.69124]], [[42276257380.76161]], [[42276257380.831795]], [[42276257380.90174]], [[42276257380.97135]], [[42276257381.04072]], [[42276257381.10992]], [[42276257381.17886]], [[42276257381.24749]], [[42276257381.31589]], [[42276257381.38405]], [[42276257381.45196]], [[42276257381.51964]], [[42276257381.587105]], [[42276257381.65427]], [[42276257381.72113]], [[42276257381.78787]], [[42276257381.85438]], [[42276257381.92058]], [[42276257381.98655]], [[42276257382.052315]], [[42276257382.11781]], [[42276257382.18306]], [[42276257382.24812]], [[42276257382.312965]], [[42276257382.37748]], [[42276257382.44183]], [[42276257382.50598]], [[42276257382.569855]], [[42276257382.63351]], [[42276257382.69696]], [[42276257382.76019]], [[42276257382.82314]], [[42276257382.885956]], [[42276257382.948494]], [[42276257383.010796]], [[42276257383.07291]], [[42276257383.134834]], [[42276257383.19658]], [[42276257383.258064]], [[42276257383.31935]], [[42276257383.38034]], [[42276257383.44117]], [[42276257383.50176]], [[42276257383.562225]], [[42276257383.622475]], [[42276257383.682526]], [[42276257383.742386]], [[42276257383.8019]], [[42276257383.86129]], [[42276257383.92049]], [[42276257383.979515]], [[42276257384.03835]], [[42276257384.09697]], [[42276257384.15539]], [[42276257384.21346]], [[42276257384.2715]], [[42276257384.32935]], [[42276257384.38699]], [[42276257384.44444]], [[42276257384.5017]], [[42276257384.558754]], [[42276257384.61544]], [[42276257384.6721]], [[42276257384.72859]], [[42276257384.78489]], [[42276257384.84105]], [[42276257384.89701]], [[42276257384.95277]], [[42276257385.00812]], [[42276257385.06343]], [[42276257385.1186]], [[42276257385.17363]], [[42276257385.22846]], [[42276257385.28312]], [[42276257385.3376]], [[42276257385.39172]], [[42276257385.44578]], [[42276257385.49971]], [[42276257385.553444]], [[42276257385.607025]], [[42276257385.66047]], [[42276257385.713715]], [[42276257385.7666]], [[42276257385.81941]], [[42276257385.87211]], [[42276257385.924675]], [[42276257385.97712]], [[42276257386.029366]], [[42276257386.081436]], [[42276257386.13314]], [[42276257386.18479]], [[42276257386.23629]], [[42276257386.28766]], [[42276257386.33888]], [[42276257386.38996]], [[42276257386.4409]], [[42276257386.49151]], [[42276257386.54205]], [[42276257386.59245]], [[42276257386.64267]], [[42276257386.69273]], [[42276257386.74268]], [[42276257386.792496]], [[42276257386.84196]], [[42276257386.891396]], [[42276257386.940704]], [[42276257386.98989]], [[42276257387.038925]], [[42276257387.08781]], [[42276257387.13653]], [[42276257387.1849]], [[42276257387.23324]], [[42276257387.28148]], [[42276257387.3296]], [[42276257387.37757]], [[42276257387.42541]], [[42276257387.47311]], [[42276257387.52047]], [[42276257387.56781]], [[42276257387.61503]], [[42276257387.66208]], [[42276257387.70901]], [[42276257387.7558]], [[42276257387.80246]], [[42276257387.84881]], [[42276257387.89516]]]]]\n"
          ]
        }
      ],
      "source": [
        "grid = ((8.63e-1,8.63e-1),(1.53e-4,1.53e-4),slice(1,40, 0.1),(6.78e-5, 6.78e-5),(0.86,0.86))\n",
        "resbrute = brute(error, grid, args = (1028, actual_cum_cases, actual_cum_death), Ns = 1,full_output=True, disp=True, finish=None)\n",
        "print(\"Best coeffs: {}\".format(resbrute[0]))\n",
        "print(\"Score with best coeffs: {}\".format(resbrute[1]))\n",
        "print(\"Grid: {}\".format(resbrute[2].tolist()))\n",
        "print(\"Scores for grid: {}\".format(resbrute[3].tolist()))"
      ]
    },
    {
      "cell_type": "markdown",
      "metadata": {},
      "source": [
        "### Get Predictions"
      ]
    },
    {
      "cell_type": "code",
      "execution_count": null,
      "metadata": {
        "id": "oA-9TGuZkVoz"
      },
      "outputs": [],
      "source": [
        "params = res.x\n",
        "#params = np.array([0.022,0.00165,33,1e-7,7.5e-6])\n"
      ]
    },
    {
      "cell_type": "code",
      "execution_count": null,
      "metadata": {
        "colab": {
          "base_uri": "https://localhost:8080/"
        },
        "id": "oICkiGA296Uu",
        "outputId": "722d2dd4-b329-41f7-9950-8c6d6b2e8222"
      },
      "outputs": [
        {
          "name": "stdout",
          "output_type": "stream",
          "text": [
            "[422.90521110488476, 421.29197393270255, 419.6836837216944, 418.08033540688405, 416.48192383322845, 414.88844375742184, 413.29988984761815, 411.7162566853738, 410.13753876634195, 408.56373050054964, 406.994826214202, 405.43082015037646, 403.8717064697162, 402.3174792514017, 400.7681324941226, 399.22366011718725, 397.6840559609396, 396.14931378828544, 394.61942728497013, 393.0943900608275, 391.5741956507512, 390.05883751538903, 388.54830904169745, 387.04260354446853, 385.5417142670237, 384.0456343814913, 382.55435699033336, 381.0678751270391, 379.5861817569579, 378.10926977771555, 376.6371320207407, 375.16976125168134, 373.7071501713762, 372.24929141640996, 370.79617756050067, 369.34780111450016, 367.90415452819803, 366.46523019004394, 365.0310204288132, 363.601517513884, 362.17671365634806, 360.75660100970407, 359.3411716702744, 357.93041767873126, 356.52433101995837, 355.1229036245773, 353.7261273695025, 352.3339940780801, 350.94649552203094, 349.5636234210342, 348.1853694442538, 346.81172521047745, 345.44268228922647, 344.0782322017277, 342.718366421052, 341.36307637280817, 340.0123534363919, 338.6661889456799, 337.3245741890296, 335.98750041066717, 334.65495881110365, 333.3269405476902, 332.0034367357283, 330.6844384486085, 329.36993671892066, 328.05992253900905, 326.75438686152745, 325.45332059985554, 324.15671462962536, 322.8645597883051, 321.5768468767255, 320.2935666588025, 319.01470986320237, 317.7402671833418, 316.4702292778043, 315.2045867720055, 313.9433302572214, 312.6864502928095, 311.4339374057917, 310.18578209168754, 308.9419748152078, 307.70250601108717, 306.4673660840844, 305.2365454100925, 304.0100343362773, 302.7878231821879, 301.56990223989544, 300.35626177468686, 299.14689202562016, 297.94178320621813, 296.740925504746, 295.5443090851828, 294.35192408736043, 293.16376062751834, 291.97980879913655, 290.8000586732129, 289.62450029909604, 288.453123704624, 287.285918896818, 286.1228758622991, 284.96398456825943, 283.80923496232333, 282.65861697324146, 281.512120511862, 280.3697354708534, 279.2314517259531, 278.0972591356901, 276.96714754277264, 275.8411067733946, 274.71912663917794, 273.601196936063, 272.487307446112, 271.3774479370934, 270.2716081635914, 269.16977786659027, 268.0719467751391, 266.9781046055197, 265.888241062634, 264.8023458401427, 263.7204086203271, 262.64241907589246, 261.56836686885845, 260.4982416518076, 259.4320330685795, 258.3697307537158, 257.31132433370885, 256.2568034272794, 255.2061576453768, 254.1593765918726, 253.11644986411585, 252.07736705279427, 251.0421177430444, 250.01069151431298, 248.98307794063436, 247.95926659146318, 246.93924703195202, 245.92300882322894, 244.91054152225854, 243.90183468323002, 242.89687785727932, 241.89566059276692, 240.89817243597156, 239.90440293109037, 238.91434162093273, 237.92797804719768, 236.9453017506129, 235.9663022712122, 234.99096914916805, 234.0192919245143, 233.0512601379786, 232.08686333084373, 231.1260910456414, 230.16893282643002, 229.21537821879446, 228.26541677040123, 227.31903803141495, 226.37623155449816, 225.4369868955053, 224.50129361306637, 223.5691412701135, 222.64051943263198, 221.7154176713254, 220.79382556092207, 219.87573268114625, 218.96112861644056, 218.0500029567989, 217.14234529748856, 216.23814523946683, 215.33739239021355, 214.44007636317596, 213.5461867784627, 212.6557132628437, 211.76864545072172, 210.88497298329955, 210.00468550969043, 209.1277726866403, 208.25422417922178, 207.38402966083424, 206.51717881306487, 205.65366132679895, 204.79346690180367, 203.93658524686663, 203.08300608076757, 202.23271913144546, 201.3857141372477, 200.54198084651364, 199.70150901785223, 198.86428842055827, 198.03030883489004, 197.19956005193052, 196.37203187414244, 195.54771411509074, 194.72659660041413, 193.90866916726978, 193.09392166502738, 192.28234395499143, 191.4739259113729, 190.66865742045636, 189.86652838157147, 189.0675287070931, 188.27164832244114, 187.47887716635825, 186.68920519104847, 185.9026223625937, 185.11911866081476, 184.33868407941034, 183.561308626512, 182.78698232454536, 182.01569521050786, 181.24743733582972, 180.4821987673455, 179.71996958618396, 178.96073988901696, 178.20449978805942, 177.45123941051432, 176.70094889940535, 175.9536184137156, 175.20923812783252, 174.4677982327969, 173.72928893519267, 172.99370045853468, 172.26102304243597, 171.53124694302414, 170.80436243363528, 170.0803598038425, 169.35922936056613, 168.64096142793494, 167.92554634686985, 167.2129744761941, 166.50323619166184, 165.7963218870684, 165.09222197383377, 164.39092688072532, 163.69242705524533, 162.99671296238216, 162.30377508530404, 161.6136039257754, 160.92619000360187, 160.24152385732404, 159.5595960438012, 158.88039713890524, 158.20391773682664, 157.53014845104607, 156.859079913918, 156.19070277680947, 155.52500771010003, 154.8619854035982, 154.20162656640258, 153.54392192717947, 152.88886223374652, 152.23643825390542, 151.58664077488672, 150.93946060376618, 150.2948885673261, 149.6529155126103, 149.01353230623027, 148.3767298351979, 147.7424990062315, 147.11083074686604, 146.481716004343, 145.85514574658177, 145.23111096176322, 144.60960265874624, 143.99061186678998, 143.37412963569273, 142.76014703593077, 142.14865515907448, 141.53964511695594, 140.93310804250137, 140.32903508973126, 139.72741743320526, 139.12824626885478, 138.5315128134279, 137.93720830504452, 137.34532400278, 136.75585118694266, 136.16878115921273, 135.5841052426421, 135.00181478123818, 134.42190114093532, 133.8443557086233, 133.26916989298, 132.69633512419387, 132.125842853964, 131.55768455536122, 130.99185172338323, 130.42833587467717, 129.86712854753947, 129.3082213017771, 128.7516057192628, 128.1972734035186, 127.64521597999345, 127.0954250960632, 126.54789242061426, 126.0026096448763, 125.45956848186712, 124.91876066625385, 124.38017795532441, 123.84381212773854, 123.30965498449919, 122.7776983488138, 122.24793406553913, 121.72035400201398, 121.19495004736524, 120.6717141130631, 120.15063813264337, 119.63171406170758, 119.11493387833927, 118.60028958227132, 118.0877731958574, 117.57737676351687, 117.06909235201235, 116.56291204989455, 116.05882796847378, 115.55683224098723, 115.05691702301534, 114.55907449248181, 114.06329684923722, 113.56957631589171, 113.0779051367048, 112.58827557883433, 112.10067993136508, 111.61511050558626, 111.1315596352691, 110.65001967625054, 110.17048300671073, 109.69294202745061, 109.21738916078172, 108.7438168520527, 108.27221756826155, 107.80258379902708, 107.33490805617252, 106.8691828737256, 106.40540080764094, 105.9435544367715, 105.48363636148083, 105.02563920475328, 104.56955561177762, 104.11537824966955, 103.66309980788802, 103.2127129982352, 102.7642105543014, 102.31758523202016, 101.87282980966827, 101.42993708703307, 100.98889988666149, 100.54971105274979, 100.1123634518375, 99.67684997225223, 99.24316352452611, 98.8112970412569, 98.3812434769693, 97.95299580811489, 97.52654703321096, 97.10189017270166, 96.6790182688193, 96.2579243858619, 95.83860160991553, 95.42104304899324, 95.00524183289616, 94.59119111335235, 94.17888406360042, 93.76831387908346, 93.35947377647757, 92.9523569946633, 92.54695679389302, 92.14326645634597, 91.74127928529563, 91.34098860649753, 90.94238776652386, 90.5454701338737, 90.15022909855675, 89.75665807209322, 89.36475048723635, 88.97449979866634, 88.58589948215756, 88.19894303471743, 87.81362397514147, 87.4299358431807, 87.04787220009669, 86.66742662852278, 86.28859273190903, 85.91136413535483, 85.53573448477624, 85.16169744759993, 84.78924671193045, 84.41837598738289, 84.04907900425029, 83.6813495140587, 83.31518128901206, 82.95056812282486, 82.58750382947322, 82.22598224416622, 81.86599722279087, 81.50754264205085, 81.15061239960531, 80.79520041351374, 80.4413006226523, 80.08890698657511, 79.73801348551413, 79.38861412010168, 79.04070291178678, 78.69427390200245, 78.3493211531372, 78.00583874770228, 77.66382078874811, 77.32326139972545, 76.98415472406906, 76.64649492575282, 76.3102761890122, 75.97549271792792, 75.642138736981, 75.31020849091408, 74.97969624403744, 74.65059628092297, 74.32290290654286, 73.9966104450207, 73.6717132408804, 73.34820565835231, 73.02608208151207, 72.70533691414171, 72.38596457986857, 72.0679595218876, 71.75131620310027, 71.43602910583691, 71.12209273213432, 70.809501603597, 70.49825026111955, 70.18833326516427, 69.87974519548357, 69.5724806509812, 69.26653425040618, 68.96190063110375]\n"
          ]
        }
      ],
      "source": [
        "# predictions\n",
        "I, D = model(params, 1450)\n",
        "D = pd.DataFrame(D)\n",
        "D.columns = ['cum_death']\n",
        "D['new_death']=D['cum_death'].diff().fillna(D['cum_death'])\n",
        "new_death = [i*10000000 for i in D['new_death']]\n",
        "print(new_death[1018:])"
      ]
    },
    {
      "cell_type": "code",
      "execution_count": null,
      "metadata": {
        "colab": {
          "base_uri": "https://localhost:8080/",
          "height": 283
        },
        "id": "5eBZjm3GBQmj",
        "outputId": "ee42290c-50e7-48e4-c3c0-d322cc04ebe0"
      },
      "outputs": [
        {
          "data": {
            "text/plain": [
              "[<matplotlib.lines.Line2D at 0x7fcf9aee9e80>]"
            ]
          },
          "execution_count": 63,
          "metadata": {},
          "output_type": "execute_result"
        },
        {
          "data": {
            "image/png": "[encoded data removed]",
            "text/plain": [
              "<Figure size 432x288 with 1 Axes>"
            ]
          },
          "metadata": {
            "needs_background": "light"
          },
          "output_type": "display_data"
        }
      ],
      "source": [
        "plt.plot(new_death)\n"
      ]
    },
    {
      "cell_type": "code",
      "execution_count": null,
      "metadata": {
        "colab": {
          "base_uri": "https://localhost:8080/",
          "height": 283
        },
        "id": "WhSGDRYuJTPH",
        "outputId": "0bc82801-0fe8-44cc-92fe-2773ec6a06b6"
      },
      "outputs": [
        {
          "data": {
            "text/plain": [
              "[<matplotlib.lines.Line2D at 0x7fcf9aeff550>]"
            ]
          },
          "execution_count": 60,
          "metadata": {},
          "output_type": "execute_result"
        },
        {
          "data": {
            "image/png": "[encoded data removed]",
            "text/plain": [
              "<Figure size 432x288 with 1 Axes>"
            ]
          },
          "metadata": {
            "needs_background": "light"
          },
          "output_type": "display_data"
        }
      ],
      "source": [
        "plt.plot(actual_cum_death[1018:])\n"
      ]
    },
    {
      "cell_type": "code",
      "execution_count": null,
      "metadata": {
        "colab": {
          "base_uri": "https://localhost:8080/",
          "height": 283
        },
        "id": "SbAEgdsXNrJz",
        "outputId": "f9ec4681-954e-4c1b-ac12-122800052b0c"
      },
      "outputs": [
        {
          "data": {
            "text/plain": [
              "[<matplotlib.lines.Line2D at 0x7fcf9afb8af0>]"
            ]
          },
          "execution_count": 55,
          "metadata": {},
          "output_type": "execute_result"
        },
        {
          "data": {
            "image/png": "[encoded data removed]",
            "text/plain": [
              "<Figure size 432x288 with 1 Axes>"
            ]
          },
          "metadata": {
            "needs_background": "light"
          },
          "output_type": "display_data"
        }
      ],
      "source": [
        "plt.plot(D['cum_death'])"
      ]
    },
    {
      "cell_type": "code",
      "execution_count": null,
      "metadata": {
        "id": "wEVdPNCJNxl8"
      },
      "outputs": [],
      "source": [
        "D.to_csv('SIRD_death.csv')"
      ]
    },
    {
      "cell_type": "code",
      "execution_count": null,
      "metadata": {
        "id": "Ob2BSW0LOXmE"
      },
      "outputs": [],
      "source": [
        "daily_death.to_csv(\"actual death.csv\")"
      ]
    },
    {
      "cell_type": "code",
      "execution_count": null,
      "metadata": {
        "colab": {
          "base_uri": "https://localhost:8080/"
        },
        "id": "BRb-6xImdPz5",
        "outputId": "47b388ed-386b-4420-8320-b910c4c3c3db"
      },
      "outputs": [
        {
          "data": {
            "text/plain": [
              "44026.44433003097"
            ]
          },
          "execution_count": 68,
          "metadata": {},
          "output_type": "execute_result"
        }
      ],
      "source": [
        "beta, gamma, S0, I0, d = params\n",
        "beta * S0/gamma"
      ]
    },
    {
      "cell_type": "code",
      "execution_count": null,
      "metadata": {
        "id": "7n5Acx-tdPyc"
      },
      "outputs": [],
      "source": []
    }
  ],
  "metadata": {
    "accelerator": "TPU",
    "colab": {
      "gpuClass": "premium",
      "machine_shape": "hm",
      "provenance": []
    },
    "gpuClass": "premium",
    "kernelspec": {
      "display_name": "Python 3",
      "name": "python3"
    },
    "language_info": {
      "name": "python"
    }
  },
  "nbformat": 4,
  "nbformat_minor": 0
}
